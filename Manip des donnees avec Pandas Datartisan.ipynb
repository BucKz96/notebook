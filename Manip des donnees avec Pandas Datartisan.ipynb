{
 "cells": [
  {
   "cell_type": "markdown",
   "metadata": {},
   "source": [
    "# Python : Manipulation des données avec Pandas"
   ]
  },
  {
   "cell_type": "markdown",
   "metadata": {},
   "source": [
    "Pandas est une librairie Python spécialisée dans l’analyse des données qui a beaucoup de succès. Dans ce projet pratique, nous nous intéresserons surtout aux fonctionnalités de manipulations de données qu’elle propose. Un objet de type \"DataFrame\" (tableau de données), permet de réaliser de nombreuses opérations de pré-traitements, de filtrage, de nettoyage, de construction de nouvelles variables à partir des existentes, etc.,... préalables à la modélisation statistique.\n",
    "\n",
    "La librairie est très largement documentée. Il faut prendre le temps de consulter le Help et de s'exercer simplement ! Deux liens du Help sont incontournables, celui relative aux DataFrame (http://pandas.pydata.org/pandas-docs/stable/generated/pandas.DataFrame.html#pandas.DataFrame), celui relative aux Series que nous travaillerons également dessus (vecteur de données : http://pandas.pydata.org/pandas-docs/stable/generated/pandas.Series.html#pandas.Series)."
   ]
  },
  {
   "cell_type": "markdown",
   "metadata": {},
   "source": [
    "# Librairie Pandas - Options et version\n",
    "\n",
    "Il faut charger la librairie et, éventuellement, la configurer selon vos attentes. Pensez à vérifier votre version, elle doit être (non seulement la même sur tous les postes mais aussi la plus récente)."
   ]
  },
  {
   "cell_type": "code",
   "execution_count": null,
   "metadata": {
    "collapsed": true,
    "scrolled": false
   },
   "outputs": [],
   "source": [
    "# 1è étape : il faut charger Pandas\n",
    "# R :\n",
    "import pandas as pd\n",
    "\n",
    "# Vérifiez sa version ? \n",
    "# R :\n",
    "print(pd.__version__) \n",
    "\n",
    "# Quelle est la dernière version et MAJ la votre en ligne de commande (au cas où Pandas n'est pas la + récente) ? \n",
    "# R :\n",
    "#conda update pandas\n",
    "#conda install pkg\n",
    "#¢onda remove pkg\n",
    "\n",
    "#pip install pkg\n",
    "#pip install --upgrade pkg\n",
    "#pip install --downgrade pkg\n",
    "#pip remove pkg\n",
    "\n",
    "# Rappelez les commandes qui permettent d'installer, MAJ, utiliser 1version moins récente et désinstaller 1lib ?   \n",
    "# R :\n",
    "#\n",
    "\n",
    "# Modifiez le nb de lignes à afficher dans les print à 10. L'idée est d'éviter que le projet se résume \n",
    "# à de multiples affichages de longs tableaux ! \n",
    "# R :\n",
    "# pd.options.display.max_rows = 10\n",
    "\n",
    "# Modifiez le nb de colonnes à afficher dans les print à 10. L'idée est d'éviter que la console soit rapidement encombrée \n",
    "# par un grand nombre de col ! \n",
    "# R :\n",
    "# pd.options.display.max_columns = 10\n",
    "\n",
    "# Malgré le fait que ns avons fixé 1petit nb de col à afficher (à 10), les résultats peuvent être tronqués ds la console !\n",
    "# En d'autres termes, l'idée est d'améliorer l'affichage ds la console en évitant un retour à la ligne (Spyder, Pyzo, nootebook,..).\n",
    "# Activez l'option nécessaire à ce besoin ? \n",
    "# R : \n",
    "# pd.set_option('expand_frame_repr', False)"
   ]
  },
  {
   "cell_type": "raw",
   "metadata": {},
   "source": [
    "Après avoir réussi ces dernieres manip, créez 1script (startup.py) avec ces diff commandes et indiquez son path à Pyzo.\n",
    "L'idée est qu'à chaque lancement de Python, vos différents imports et options soient activées automatiquement !"
   ]
  },
  {
   "cell_type": "markdown",
   "metadata": {
    "collapsed": true
   },
   "source": [
    "# Chargement, structure DataFrame et description des données"
   ]
  },
  {
   "cell_type": "raw",
   "metadata": {},
   "source": [
    "1DataFrame correspond à 1tableau (lignes x cols) que je noterai à partir de maintenant \"df\".\n",
    "Concernant notre fichier \"sante.txt\" :\n",
    "La 1è ligne correspond aux noms des vars. A partir de la 2è ligne, ns disposons des valeurs pr chaque enregistrement (individu). \n",
    "Le caractère tabulation \"\\t\" fait office de séparateur de cols.\n",
    "Ns allons vérifier tt ça ds 1 1er tps en lignes de commandes Linux et ds un 2sd temps sur Python."
   ]
  },
  {
   "cell_type": "raw",
   "metadata": {},
   "source": [
    "En ligne de commande Linux : \n",
    "\n",
    "1) Créez 1répertoire \"data\" (où vs stockerez d'1façon permanente ts les objets que ns travaillerons dessus).\n",
    "2) Télécharez à partir du google-drive-datartisan le fichier \"sante.txt\" (secteur de la sante).\n",
    "# R : \n",
    "\n",
    "Dans le terminal linux (et non ds 1éditeur de texte), déterminez : \n",
    "3) la taille du fichier, le nombre de lignes et affichez les 5 1è (lignes). \n",
    "# L'idée est d'avoir un aperçu du fichier ET surtout de déterminer : \n",
    "# Le fait s'il tiens en mémoire (données massives ou non),\n",
    "# Le type de séparateur (tabulation, virgule, pipe,...),\n",
    "# La présence ou non des noms des vars. \n",
    "# Le tout pour préparer la commande Python de création de df (à partir de ce fichier) ! \n",
    "# R : \n",
    "\n",
    "# awk 'END {print NR}' sante.txt ==> Nombre de lignes dans un file"
   ]
  },
  {
   "cell_type": "code",
   "execution_count": null,
   "metadata": {
    "collapsed": true,
    "scrolled": true
   },
   "outputs": [],
   "source": [
    "# Refaites ces diff manip strictement à l'aide de commandes Python : création de rép \"data\", téléchargement du fichier,... ?\n",
    "# R : indice import os, open()\n",
    "\n",
    "# os.mkdir(/home/buckz/Data) => Créer un dossier\n",
    "# os.makedirs('Test') => Créer une branche complète\n",
    "os.path.getsize('sante.txt') \n",
    "df_sante.shape\n",
    "df_sante.head()\n",
    "\n",
    "\n",
    "\n",
    "# Revenez sur le script \"startup.py\" et y mettre les commandes qui vs permettent de : \n",
    "# Créer le rép \"data\" (s'il n'existe pas) ?\n",
    "# Se positinner dessus automatiquement (à chaque démarrage).\n",
    "# R :"
   ]
  },
  {
   "cell_type": "code",
   "execution_count": null,
   "metadata": {
    "collapsed": true
   },
   "outputs": [],
   "source": [
    "# Chargez le fichier en tant qu'objet DataFrame (nom = df_sante) \n",
    "# R : \n",
    "\n",
    "with open ('sante.txt') as f:\n",
    "    lines = f.readlines()\n",
    "    for i in range(6):\n",
    "        print(lines[i])\n",
    "\n",
    "df_sante = pd.read_table('sante.txt', sep='\\t')\n",
    "print(df_sante.head())\n",
    "\n",
    "# Vérifiez que le type obtenu est bien un 'pandas.core.frame.DataFrame'\n",
    "# R : \n",
    "# type(df_sante)"
   ]
  },
  {
   "cell_type": "raw",
   "metadata": {},
   "source": [
    "Le type DataFrame est bien reconnu. Voyons maintenant sa structure.\n",
    "Faire un print(df) où vs vérifiez à l'oeil nu, dans la console, ligne par ligne la structure du df n'a pas de sens (contexte Big Data) !\n",
    "Croyez moi, ça ne va pas vs faire avancer (inversement, au bon entendeur !). \n",
    "Ns préferons alors déterminer la dimension du df, afficher un bout des 1ères et dernières lignes (et comparer avec les résultats déjà obtenu avec le fichier \".txt\").  "
   ]
  },
  {
   "cell_type": "code",
   "execution_count": null,
   "metadata": {
    "collapsed": true
   },
   "outputs": [],
   "source": [
    "# Déterminez les dimensions : nb de lignes et nb de colonnes ? \n",
    "# R : \n",
    "\n",
    "print(df_sante.shape)\n",
    "\n",
    "# Vérifier que ce sont les bonnes dimensions avec le fichier \".txt\"\n",
    "# Rq : la ligne d'en-tête n'est pas comptabilisée dans le nombre de lignes ! "
   ]
  },
  {
   "cell_type": "code",
   "execution_count": 60,
   "metadata": {},
   "outputs": [
    {
     "data": {
      "text/html": [
       "<div>\n",
       "<style scoped>\n",
       "    .dataframe tbody tr th:only-of-type {\n",
       "        vertical-align: middle;\n",
       "    }\n",
       "\n",
       "    .dataframe tbody tr th {\n",
       "        vertical-align: top;\n",
       "    }\n",
       "\n",
       "    .dataframe thead th {\n",
       "        text-align: right;\n",
       "    }\n",
       "</style>\n",
       "<table border=\"1\" class=\"dataframe\">\n",
       "  <thead>\n",
       "    <tr style=\"text-align: right;\">\n",
       "      <th></th>\n",
       "      <th>age</th>\n",
       "      <th>sexe</th>\n",
       "      <th>typedouleur</th>\n",
       "      <th>sucre</th>\n",
       "      <th>tauxmax</th>\n",
       "      <th>angine</th>\n",
       "      <th>depression</th>\n",
       "      <th>coeur</th>\n",
       "    </tr>\n",
       "  </thead>\n",
       "  <tbody>\n",
       "    <tr>\n",
       "      <th>0</th>\n",
       "      <td>70</td>\n",
       "      <td>masculin</td>\n",
       "      <td>D</td>\n",
       "      <td>A</td>\n",
       "      <td>109</td>\n",
       "      <td>non</td>\n",
       "      <td>24</td>\n",
       "      <td>presence</td>\n",
       "    </tr>\n",
       "    <tr>\n",
       "      <th>1</th>\n",
       "      <td>67</td>\n",
       "      <td>feminin</td>\n",
       "      <td>C</td>\n",
       "      <td>A</td>\n",
       "      <td>160</td>\n",
       "      <td>non</td>\n",
       "      <td>16</td>\n",
       "      <td>absence</td>\n",
       "    </tr>\n",
       "    <tr>\n",
       "      <th>2</th>\n",
       "      <td>57</td>\n",
       "      <td>masculin</td>\n",
       "      <td>B</td>\n",
       "      <td>A</td>\n",
       "      <td>141</td>\n",
       "      <td>non</td>\n",
       "      <td>3</td>\n",
       "      <td>presence</td>\n",
       "    </tr>\n",
       "    <tr>\n",
       "      <th>3</th>\n",
       "      <td>64</td>\n",
       "      <td>masculin</td>\n",
       "      <td>D</td>\n",
       "      <td>A</td>\n",
       "      <td>105</td>\n",
       "      <td>oui</td>\n",
       "      <td>2</td>\n",
       "      <td>absence</td>\n",
       "    </tr>\n",
       "    <tr>\n",
       "      <th>4</th>\n",
       "      <td>74</td>\n",
       "      <td>feminin</td>\n",
       "      <td>B</td>\n",
       "      <td>A</td>\n",
       "      <td>121</td>\n",
       "      <td>oui</td>\n",
       "      <td>2</td>\n",
       "      <td>absence</td>\n",
       "    </tr>\n",
       "  </tbody>\n",
       "</table>\n",
       "</div>"
      ],
      "text/plain": [
       "   age      sexe typedouleur sucre  tauxmax angine  depression     coeur\n",
       "0   70  masculin           D     A      109    non          24  presence\n",
       "1   67   feminin           C     A      160    non          16   absence\n",
       "2   57  masculin           B     A      141    non           3  presence\n",
       "3   64  masculin           D     A      105    oui           2   absence\n",
       "4   74   feminin           B     A      121    oui           2   absence"
      ]
     },
     "execution_count": 60,
     "metadata": {},
     "output_type": "execute_result"
    }
   ],
   "source": [
    "# Affichez les premières lignes du jeu de données ? \n",
    "df_sante.head()\n",
    "# R : "
   ]
  },
  {
   "cell_type": "code",
   "execution_count": null,
   "metadata": {
    "collapsed": true
   },
   "outputs": [],
   "source": [
    "# Affichez les dernières lignes du jeu de données ? \n",
    "df_sante.tail()\n",
    "# R : "
   ]
  },
  {
   "cell_type": "raw",
   "metadata": {},
   "source": [
    "Nous passons beaucoup de notre temps à charger des df et à afficher le head (tail) pour vérifier que tt est OK ! \n",
    "Il vaut mieux en faire de ça 1fonc 1fois pr tte que vs appelez au besoin ? "
   ]
  },
  {
   "cell_type": "code",
   "execution_count": 155,
   "metadata": {},
   "outputs": [
    {
     "name": "stdout",
     "output_type": "stream",
     "text": [
      "   age      sexe typedouleur sucre  tauxmax angine  depression     coeur\n",
      "0   70  masculin           D     A      109    non          24  presence\n",
      "1   67   feminin           C     A      160    non          16   absence\n",
      "2   57  masculin           B     A      141    non           3  presence\n",
      "3   64  masculin           D     A      105    oui           2   absence\n",
      "4   74   feminin           B     A      121    oui           2   absence\n",
      "     age      sexe typedouleur sucre  tauxmax angine  depression     coeur\n",
      "265   52  masculin           C     B      162    non           5   absence\n",
      "266   44  masculin           B     A      173    non           0   absence\n",
      "267   56   feminin           B     A      153    non          13   absence\n",
      "268   57  masculin           D     A      148    non           4   absence\n",
      "269   67  masculin           D     A      108    oui          15  presence\n"
     ]
    }
   ],
   "source": [
    "# Ecrivez cette fonc où vs géréz les exceptions (contexte script en production) ? \n",
    "\n",
    "def manageFile(file, sep):\n",
    "    try:\n",
    "        df = pd.read_table(file, sep)\n",
    "        print(df.head())\n",
    "        print(df.tail())\n",
    "        return df\n",
    "    except:\n",
    "        print('Une erreur est survenue')\n",
    "\n",
    "df = manageFile('sante.txt', '\\t')\n",
    "\n",
    "# R : "
   ]
  },
  {
   "cell_type": "markdown",
   "metadata": {},
   "source": [
    "### Les colonnes ?"
   ]
  },
  {
   "cell_type": "code",
   "execution_count": 59,
   "metadata": {
    "scrolled": false
   },
   "outputs": [
    {
     "data": {
      "text/plain": [
       "['age',\n",
       " 'sexe',\n",
       " 'typedouleur',\n",
       " 'sucre',\n",
       " 'tauxmax',\n",
       " 'angine',\n",
       " 'depression',\n",
       " 'coeur']"
      ]
     },
     "execution_count": 59,
     "metadata": {},
     "output_type": "execute_result"
    }
   ],
   "source": [
    "# Lister les colonnes (les noms des vars) ? \n",
    "list(df_sante.columns)\n",
    "# R "
   ]
  },
  {
   "cell_type": "code",
   "execution_count": 56,
   "metadata": {
    "scrolled": true
   },
   "outputs": [
    {
     "name": "stdout",
     "output_type": "stream",
     "text": [
      "age\n",
      "sexe\n",
      "typedouleur\n",
      "sucre\n",
      "tauxmax\n",
      "angine\n",
      "depression\n",
      "coeur\n"
     ]
    }
   ],
   "source": [
    "# Supposons que ce dernier affichage ne vous conviens pas (à l'horizontal, surtout si vs avez 5000 cols) ?! \n",
    "# Mettez en place 1boucle \"for\" qui vous permez d'afficher le résultat (à la verticale) et de le contrôler (nb de col à afficher) ?\n",
    "# R : \n",
    "df_col = df_sante.columns\n",
    "for column in df_col:\n",
    "    print(column)\n"
   ]
  },
  {
   "cell_type": "code",
   "execution_count": 3,
   "metadata": {},
   "outputs": [
    {
     "ename": "FileNotFoundError",
     "evalue": "File b'sante.txt' does not exist",
     "output_type": "error",
     "traceback": [
      "\u001b[0;31m---------------------------------------------------------------------------\u001b[0m",
      "\u001b[0;31mFileNotFoundError\u001b[0m                         Traceback (most recent call last)",
      "\u001b[0;32m<ipython-input-3-eb060568acd4>\u001b[0m in \u001b[0;36m<module>\u001b[0;34m()\u001b[0m\n\u001b[1;32m      1\u001b[0m \u001b[0;31m# Quelle est le type de chaque colonne : int64, object,... ?\u001b[0m\u001b[0;34m\u001b[0m\u001b[0;34m\u001b[0m\u001b[0m\n\u001b[1;32m      2\u001b[0m \u001b[0;32mimport\u001b[0m \u001b[0mpandas\u001b[0m \u001b[0;32mas\u001b[0m \u001b[0mpd\u001b[0m\u001b[0;34m\u001b[0m\u001b[0m\n\u001b[0;32m----> 3\u001b[0;31m \u001b[0mdf\u001b[0m \u001b[0;34m=\u001b[0m \u001b[0mpd\u001b[0m\u001b[0;34m.\u001b[0m\u001b[0mread_table\u001b[0m\u001b[0;34m(\u001b[0m\u001b[0;34m'sante.txt'\u001b[0m\u001b[0;34m)\u001b[0m\u001b[0;34m\u001b[0m\u001b[0m\n\u001b[0m\u001b[1;32m      4\u001b[0m \u001b[0mdf\u001b[0m\u001b[0;34m.\u001b[0m\u001b[0mdtypes\u001b[0m\u001b[0;34m\u001b[0m\u001b[0m\n\u001b[1;32m      5\u001b[0m \u001b[0;34m\u001b[0m\u001b[0m\n",
      "\u001b[0;32m~/anaconda3/lib/python3.6/site-packages/pandas/io/parsers.py\u001b[0m in \u001b[0;36mparser_f\u001b[0;34m(filepath_or_buffer, sep, delimiter, header, names, index_col, usecols, squeeze, prefix, mangle_dupe_cols, dtype, engine, converters, true_values, false_values, skipinitialspace, skiprows, nrows, na_values, keep_default_na, na_filter, verbose, skip_blank_lines, parse_dates, infer_datetime_format, keep_date_col, date_parser, dayfirst, iterator, chunksize, compression, thousands, decimal, lineterminator, quotechar, quoting, escapechar, comment, encoding, dialect, tupleize_cols, error_bad_lines, warn_bad_lines, skipfooter, skip_footer, doublequote, delim_whitespace, as_recarray, compact_ints, use_unsigned, low_memory, buffer_lines, memory_map, float_precision)\u001b[0m\n\u001b[1;32m    707\u001b[0m                     skip_blank_lines=skip_blank_lines)\n\u001b[1;32m    708\u001b[0m \u001b[0;34m\u001b[0m\u001b[0m\n\u001b[0;32m--> 709\u001b[0;31m         \u001b[0;32mreturn\u001b[0m \u001b[0m_read\u001b[0m\u001b[0;34m(\u001b[0m\u001b[0mfilepath_or_buffer\u001b[0m\u001b[0;34m,\u001b[0m \u001b[0mkwds\u001b[0m\u001b[0;34m)\u001b[0m\u001b[0;34m\u001b[0m\u001b[0m\n\u001b[0m\u001b[1;32m    710\u001b[0m \u001b[0;34m\u001b[0m\u001b[0m\n\u001b[1;32m    711\u001b[0m     \u001b[0mparser_f\u001b[0m\u001b[0;34m.\u001b[0m\u001b[0m__name__\u001b[0m \u001b[0;34m=\u001b[0m \u001b[0mname\u001b[0m\u001b[0;34m\u001b[0m\u001b[0m\n",
      "\u001b[0;32m~/anaconda3/lib/python3.6/site-packages/pandas/io/parsers.py\u001b[0m in \u001b[0;36m_read\u001b[0;34m(filepath_or_buffer, kwds)\u001b[0m\n\u001b[1;32m    447\u001b[0m \u001b[0;34m\u001b[0m\u001b[0m\n\u001b[1;32m    448\u001b[0m     \u001b[0;31m# Create the parser.\u001b[0m\u001b[0;34m\u001b[0m\u001b[0;34m\u001b[0m\u001b[0m\n\u001b[0;32m--> 449\u001b[0;31m     \u001b[0mparser\u001b[0m \u001b[0;34m=\u001b[0m \u001b[0mTextFileReader\u001b[0m\u001b[0;34m(\u001b[0m\u001b[0mfilepath_or_buffer\u001b[0m\u001b[0;34m,\u001b[0m \u001b[0;34m**\u001b[0m\u001b[0mkwds\u001b[0m\u001b[0;34m)\u001b[0m\u001b[0;34m\u001b[0m\u001b[0m\n\u001b[0m\u001b[1;32m    450\u001b[0m \u001b[0;34m\u001b[0m\u001b[0m\n\u001b[1;32m    451\u001b[0m     \u001b[0;32mif\u001b[0m \u001b[0mchunksize\u001b[0m \u001b[0;32mor\u001b[0m \u001b[0miterator\u001b[0m\u001b[0;34m:\u001b[0m\u001b[0;34m\u001b[0m\u001b[0m\n",
      "\u001b[0;32m~/anaconda3/lib/python3.6/site-packages/pandas/io/parsers.py\u001b[0m in \u001b[0;36m__init__\u001b[0;34m(self, f, engine, **kwds)\u001b[0m\n\u001b[1;32m    816\u001b[0m             \u001b[0mself\u001b[0m\u001b[0;34m.\u001b[0m\u001b[0moptions\u001b[0m\u001b[0;34m[\u001b[0m\u001b[0;34m'has_index_names'\u001b[0m\u001b[0;34m]\u001b[0m \u001b[0;34m=\u001b[0m \u001b[0mkwds\u001b[0m\u001b[0;34m[\u001b[0m\u001b[0;34m'has_index_names'\u001b[0m\u001b[0;34m]\u001b[0m\u001b[0;34m\u001b[0m\u001b[0m\n\u001b[1;32m    817\u001b[0m \u001b[0;34m\u001b[0m\u001b[0m\n\u001b[0;32m--> 818\u001b[0;31m         \u001b[0mself\u001b[0m\u001b[0;34m.\u001b[0m\u001b[0m_make_engine\u001b[0m\u001b[0;34m(\u001b[0m\u001b[0mself\u001b[0m\u001b[0;34m.\u001b[0m\u001b[0mengine\u001b[0m\u001b[0;34m)\u001b[0m\u001b[0;34m\u001b[0m\u001b[0m\n\u001b[0m\u001b[1;32m    819\u001b[0m \u001b[0;34m\u001b[0m\u001b[0m\n\u001b[1;32m    820\u001b[0m     \u001b[0;32mdef\u001b[0m \u001b[0mclose\u001b[0m\u001b[0;34m(\u001b[0m\u001b[0mself\u001b[0m\u001b[0;34m)\u001b[0m\u001b[0;34m:\u001b[0m\u001b[0;34m\u001b[0m\u001b[0m\n",
      "\u001b[0;32m~/anaconda3/lib/python3.6/site-packages/pandas/io/parsers.py\u001b[0m in \u001b[0;36m_make_engine\u001b[0;34m(self, engine)\u001b[0m\n\u001b[1;32m   1047\u001b[0m     \u001b[0;32mdef\u001b[0m \u001b[0m_make_engine\u001b[0m\u001b[0;34m(\u001b[0m\u001b[0mself\u001b[0m\u001b[0;34m,\u001b[0m \u001b[0mengine\u001b[0m\u001b[0;34m=\u001b[0m\u001b[0;34m'c'\u001b[0m\u001b[0;34m)\u001b[0m\u001b[0;34m:\u001b[0m\u001b[0;34m\u001b[0m\u001b[0m\n\u001b[1;32m   1048\u001b[0m         \u001b[0;32mif\u001b[0m \u001b[0mengine\u001b[0m \u001b[0;34m==\u001b[0m \u001b[0;34m'c'\u001b[0m\u001b[0;34m:\u001b[0m\u001b[0;34m\u001b[0m\u001b[0m\n\u001b[0;32m-> 1049\u001b[0;31m             \u001b[0mself\u001b[0m\u001b[0;34m.\u001b[0m\u001b[0m_engine\u001b[0m \u001b[0;34m=\u001b[0m \u001b[0mCParserWrapper\u001b[0m\u001b[0;34m(\u001b[0m\u001b[0mself\u001b[0m\u001b[0;34m.\u001b[0m\u001b[0mf\u001b[0m\u001b[0;34m,\u001b[0m \u001b[0;34m**\u001b[0m\u001b[0mself\u001b[0m\u001b[0;34m.\u001b[0m\u001b[0moptions\u001b[0m\u001b[0;34m)\u001b[0m\u001b[0;34m\u001b[0m\u001b[0m\n\u001b[0m\u001b[1;32m   1050\u001b[0m         \u001b[0;32melse\u001b[0m\u001b[0;34m:\u001b[0m\u001b[0;34m\u001b[0m\u001b[0m\n\u001b[1;32m   1051\u001b[0m             \u001b[0;32mif\u001b[0m \u001b[0mengine\u001b[0m \u001b[0;34m==\u001b[0m \u001b[0;34m'python'\u001b[0m\u001b[0;34m:\u001b[0m\u001b[0;34m\u001b[0m\u001b[0m\n",
      "\u001b[0;32m~/anaconda3/lib/python3.6/site-packages/pandas/io/parsers.py\u001b[0m in \u001b[0;36m__init__\u001b[0;34m(self, src, **kwds)\u001b[0m\n\u001b[1;32m   1693\u001b[0m         \u001b[0mkwds\u001b[0m\u001b[0;34m[\u001b[0m\u001b[0;34m'allow_leading_cols'\u001b[0m\u001b[0;34m]\u001b[0m \u001b[0;34m=\u001b[0m \u001b[0mself\u001b[0m\u001b[0;34m.\u001b[0m\u001b[0mindex_col\u001b[0m \u001b[0;32mis\u001b[0m \u001b[0;32mnot\u001b[0m \u001b[0;32mFalse\u001b[0m\u001b[0;34m\u001b[0m\u001b[0m\n\u001b[1;32m   1694\u001b[0m \u001b[0;34m\u001b[0m\u001b[0m\n\u001b[0;32m-> 1695\u001b[0;31m         \u001b[0mself\u001b[0m\u001b[0;34m.\u001b[0m\u001b[0m_reader\u001b[0m \u001b[0;34m=\u001b[0m \u001b[0mparsers\u001b[0m\u001b[0;34m.\u001b[0m\u001b[0mTextReader\u001b[0m\u001b[0;34m(\u001b[0m\u001b[0msrc\u001b[0m\u001b[0;34m,\u001b[0m \u001b[0;34m**\u001b[0m\u001b[0mkwds\u001b[0m\u001b[0;34m)\u001b[0m\u001b[0;34m\u001b[0m\u001b[0m\n\u001b[0m\u001b[1;32m   1696\u001b[0m \u001b[0;34m\u001b[0m\u001b[0m\n\u001b[1;32m   1697\u001b[0m         \u001b[0;31m# XXX\u001b[0m\u001b[0;34m\u001b[0m\u001b[0;34m\u001b[0m\u001b[0m\n",
      "\u001b[0;32mpandas/_libs/parsers.pyx\u001b[0m in \u001b[0;36mpandas._libs.parsers.TextReader.__cinit__\u001b[0;34m()\u001b[0m\n",
      "\u001b[0;32mpandas/_libs/parsers.pyx\u001b[0m in \u001b[0;36mpandas._libs.parsers.TextReader._setup_parser_source\u001b[0;34m()\u001b[0m\n",
      "\u001b[0;31mFileNotFoundError\u001b[0m: File b'sante.txt' does not exist"
     ]
    }
   ],
   "source": [
    "# Quelle est le type de chaque colonne : int64, object,... ? \n",
    "import pandas as pd\n",
    "df = pd.read_table('sante.txt')\n",
    "df.dtypes\n",
    "\n",
    "# R :\n"
   ]
  },
  {
   "cell_type": "raw",
   "metadata": {},
   "source": [
    "Il y'a combien type ? Que veut dire le type \"object\" ? \n",
    "Question à revenir dessus plus tard (après avoir travaillé sur les Series), combien de type (en ligne de commande) ?   \n",
    "# R : \n"
   ]
  },
  {
   "cell_type": "code",
   "execution_count": 21,
   "metadata": {},
   "outputs": [
    {
     "name": "stdout",
     "output_type": "stream",
     "text": [
      "<class 'pandas.core.frame.DataFrame'>\n",
      "RangeIndex: 270 entries, 0 to 269\n",
      "Data columns (total 8 columns):\n",
      "age            270 non-null int64\n",
      "sexe           270 non-null object\n",
      "typedouleur    270 non-null object\n",
      "sucre          270 non-null object\n",
      "tauxmax        270 non-null int64\n",
      "angine         270 non-null object\n",
      "depression     270 non-null int64\n",
      "coeur          270 non-null object\n",
      "dtypes: int64(3), object(5)\n",
      "memory usage: 17.0+ KB\n"
     ]
    }
   ],
   "source": [
    "# Au lieu de taper ces 2 dernières commandes, \n",
    "# il existe une commande qui vous permet de retrouver ces 2 derniers résultats (à la fois) ?\n",
    "# Laquelle ?\n",
    "df = pd.read_table('sante.txt')\n",
    "df.info()\n",
    "\n",
    "\n",
    "# R : \n"
   ]
  },
  {
   "cell_type": "raw",
   "metadata": {},
   "source": [
    "Pandas a tendance d'abuser de la mémoire lors de chargement des df.\n",
    "Aussi, il est vivement recommandé de bien affecter les bons types à chaque variable ne serait-ce que pour éviter de faire des opérations douteuses, par exemple arithmétiques sur des vars de type \"object\".\n",
    "Ds notre cas, vérifiez que notre fichier ne comporte pas de nombres avec des chiffres après la virgule ?\n",
    "Malgré cela, Pandas a stocké les cols concernées en int64 au lieu de int8 (gaspillage) !"
   ]
  },
  {
   "cell_type": "code",
   "execution_count": 47,
   "metadata": {},
   "outputs": [
    {
     "ename": "KeyError",
     "evalue": "'age'",
     "output_type": "error",
     "traceback": [
      "\u001b[0;31m---------------------------------------------------------------------------\u001b[0m",
      "\u001b[0;31mKeyError\u001b[0m                                  Traceback (most recent call last)",
      "\u001b[0;32m~/anaconda3/lib/python3.6/site-packages/pandas/core/indexes/base.py\u001b[0m in \u001b[0;36mget_loc\u001b[0;34m(self, key, method, tolerance)\u001b[0m\n\u001b[1;32m   2524\u001b[0m             \u001b[0;32mtry\u001b[0m\u001b[0;34m:\u001b[0m\u001b[0;34m\u001b[0m\u001b[0m\n\u001b[0;32m-> 2525\u001b[0;31m                 \u001b[0;32mreturn\u001b[0m \u001b[0mself\u001b[0m\u001b[0;34m.\u001b[0m\u001b[0m_engine\u001b[0m\u001b[0;34m.\u001b[0m\u001b[0mget_loc\u001b[0m\u001b[0;34m(\u001b[0m\u001b[0mkey\u001b[0m\u001b[0;34m)\u001b[0m\u001b[0;34m\u001b[0m\u001b[0m\n\u001b[0m\u001b[1;32m   2526\u001b[0m             \u001b[0;32mexcept\u001b[0m \u001b[0mKeyError\u001b[0m\u001b[0;34m:\u001b[0m\u001b[0;34m\u001b[0m\u001b[0m\n",
      "\u001b[0;32mpandas/_libs/index.pyx\u001b[0m in \u001b[0;36mpandas._libs.index.IndexEngine.get_loc\u001b[0;34m()\u001b[0m\n",
      "\u001b[0;32mpandas/_libs/index.pyx\u001b[0m in \u001b[0;36mpandas._libs.index.IndexEngine.get_loc\u001b[0;34m()\u001b[0m\n",
      "\u001b[0;32mpandas/_libs/hashtable_class_helper.pxi\u001b[0m in \u001b[0;36mpandas._libs.hashtable.PyObjectHashTable.get_item\u001b[0;34m()\u001b[0m\n",
      "\u001b[0;32mpandas/_libs/hashtable_class_helper.pxi\u001b[0m in \u001b[0;36mpandas._libs.hashtable.PyObjectHashTable.get_item\u001b[0;34m()\u001b[0m\n",
      "\u001b[0;31mKeyError\u001b[0m: 'age'",
      "\nDuring handling of the above exception, another exception occurred:\n",
      "\u001b[0;31mKeyError\u001b[0m                                  Traceback (most recent call last)",
      "\u001b[0;32m<ipython-input-47-f026ba7a87e3>\u001b[0m in \u001b[0;36m<module>\u001b[0;34m()\u001b[0m\n\u001b[1;32m      1\u001b[0m \u001b[0;31m# Par souci d'optimisation, mettez les cols qui sont en int64 en int8 ?\u001b[0m\u001b[0;34m\u001b[0m\u001b[0;34m\u001b[0m\u001b[0m\n\u001b[0;32m----> 2\u001b[0;31m \u001b[0mdf\u001b[0m\u001b[0;34m[\u001b[0m\u001b[0;34m'age'\u001b[0m\u001b[0;34m,\u001b[0m \u001b[0;34m'tauxmax'\u001b[0m\u001b[0;34m]\u001b[0m \u001b[0;34m=\u001b[0m \u001b[0mdf\u001b[0m\u001b[0;34m[\u001b[0m\u001b[0;34m'age'\u001b[0m\u001b[0;34m]\u001b[0m\u001b[0;34m.\u001b[0m\u001b[0mastype\u001b[0m\u001b[0;34m(\u001b[0m\u001b[0;34m'int8'\u001b[0m\u001b[0;34m)\u001b[0m\u001b[0;34m\u001b[0m\u001b[0m\n\u001b[0m\u001b[1;32m      3\u001b[0m \u001b[0mdf\u001b[0m\u001b[0;34m[\u001b[0m\u001b[0;34m'tauxmax'\u001b[0m\u001b[0;34m]\u001b[0m \u001b[0;34m=\u001b[0m \u001b[0mdf\u001b[0m\u001b[0;34m[\u001b[0m\u001b[0;34m'tauxmax'\u001b[0m\u001b[0;34m]\u001b[0m\u001b[0;34m.\u001b[0m\u001b[0mastype\u001b[0m\u001b[0;34m(\u001b[0m\u001b[0;34m'int8'\u001b[0m\u001b[0;34m)\u001b[0m\u001b[0;34m\u001b[0m\u001b[0m\n\u001b[1;32m      4\u001b[0m \u001b[0mdf\u001b[0m\u001b[0;34m[\u001b[0m\u001b[0;34m'depression'\u001b[0m\u001b[0;34m]\u001b[0m \u001b[0;34m=\u001b[0m \u001b[0mdf\u001b[0m\u001b[0;34m[\u001b[0m\u001b[0;34m'depression'\u001b[0m\u001b[0;34m]\u001b[0m\u001b[0;34m.\u001b[0m\u001b[0mastype\u001b[0m\u001b[0;34m(\u001b[0m\u001b[0;34m'int8'\u001b[0m\u001b[0;34m)\u001b[0m\u001b[0;34m\u001b[0m\u001b[0m\n\u001b[1;32m      5\u001b[0m \u001b[0;34m\u001b[0m\u001b[0m\n",
      "\u001b[0;32m~/anaconda3/lib/python3.6/site-packages/pandas/core/frame.py\u001b[0m in \u001b[0;36m__getitem__\u001b[0;34m(self, key)\u001b[0m\n\u001b[1;32m   2137\u001b[0m             \u001b[0;32mreturn\u001b[0m \u001b[0mself\u001b[0m\u001b[0;34m.\u001b[0m\u001b[0m_getitem_multilevel\u001b[0m\u001b[0;34m(\u001b[0m\u001b[0mkey\u001b[0m\u001b[0;34m)\u001b[0m\u001b[0;34m\u001b[0m\u001b[0m\n\u001b[1;32m   2138\u001b[0m         \u001b[0;32melse\u001b[0m\u001b[0;34m:\u001b[0m\u001b[0;34m\u001b[0m\u001b[0m\n\u001b[0;32m-> 2139\u001b[0;31m             \u001b[0;32mreturn\u001b[0m \u001b[0mself\u001b[0m\u001b[0;34m.\u001b[0m\u001b[0m_getitem_column\u001b[0m\u001b[0;34m(\u001b[0m\u001b[0mkey\u001b[0m\u001b[0;34m)\u001b[0m\u001b[0;34m\u001b[0m\u001b[0m\n\u001b[0m\u001b[1;32m   2140\u001b[0m \u001b[0;34m\u001b[0m\u001b[0m\n\u001b[1;32m   2141\u001b[0m     \u001b[0;32mdef\u001b[0m \u001b[0m_getitem_column\u001b[0m\u001b[0;34m(\u001b[0m\u001b[0mself\u001b[0m\u001b[0;34m,\u001b[0m \u001b[0mkey\u001b[0m\u001b[0;34m)\u001b[0m\u001b[0;34m:\u001b[0m\u001b[0;34m\u001b[0m\u001b[0m\n",
      "\u001b[0;32m~/anaconda3/lib/python3.6/site-packages/pandas/core/frame.py\u001b[0m in \u001b[0;36m_getitem_column\u001b[0;34m(self, key)\u001b[0m\n\u001b[1;32m   2144\u001b[0m         \u001b[0;31m# get column\u001b[0m\u001b[0;34m\u001b[0m\u001b[0;34m\u001b[0m\u001b[0m\n\u001b[1;32m   2145\u001b[0m         \u001b[0;32mif\u001b[0m \u001b[0mself\u001b[0m\u001b[0;34m.\u001b[0m\u001b[0mcolumns\u001b[0m\u001b[0;34m.\u001b[0m\u001b[0mis_unique\u001b[0m\u001b[0;34m:\u001b[0m\u001b[0;34m\u001b[0m\u001b[0m\n\u001b[0;32m-> 2146\u001b[0;31m             \u001b[0;32mreturn\u001b[0m \u001b[0mself\u001b[0m\u001b[0;34m.\u001b[0m\u001b[0m_get_item_cache\u001b[0m\u001b[0;34m(\u001b[0m\u001b[0mkey\u001b[0m\u001b[0;34m)\u001b[0m\u001b[0;34m\u001b[0m\u001b[0m\n\u001b[0m\u001b[1;32m   2147\u001b[0m \u001b[0;34m\u001b[0m\u001b[0m\n\u001b[1;32m   2148\u001b[0m         \u001b[0;31m# duplicate columns & possible reduce dimensionality\u001b[0m\u001b[0;34m\u001b[0m\u001b[0;34m\u001b[0m\u001b[0m\n",
      "\u001b[0;32m~/anaconda3/lib/python3.6/site-packages/pandas/core/generic.py\u001b[0m in \u001b[0;36m_get_item_cache\u001b[0;34m(self, item)\u001b[0m\n\u001b[1;32m   1840\u001b[0m         \u001b[0mres\u001b[0m \u001b[0;34m=\u001b[0m \u001b[0mcache\u001b[0m\u001b[0;34m.\u001b[0m\u001b[0mget\u001b[0m\u001b[0;34m(\u001b[0m\u001b[0mitem\u001b[0m\u001b[0;34m)\u001b[0m\u001b[0;34m\u001b[0m\u001b[0m\n\u001b[1;32m   1841\u001b[0m         \u001b[0;32mif\u001b[0m \u001b[0mres\u001b[0m \u001b[0;32mis\u001b[0m \u001b[0;32mNone\u001b[0m\u001b[0;34m:\u001b[0m\u001b[0;34m\u001b[0m\u001b[0m\n\u001b[0;32m-> 1842\u001b[0;31m             \u001b[0mvalues\u001b[0m \u001b[0;34m=\u001b[0m \u001b[0mself\u001b[0m\u001b[0;34m.\u001b[0m\u001b[0m_data\u001b[0m\u001b[0;34m.\u001b[0m\u001b[0mget\u001b[0m\u001b[0;34m(\u001b[0m\u001b[0mitem\u001b[0m\u001b[0;34m)\u001b[0m\u001b[0;34m\u001b[0m\u001b[0m\n\u001b[0m\u001b[1;32m   1843\u001b[0m             \u001b[0mres\u001b[0m \u001b[0;34m=\u001b[0m \u001b[0mself\u001b[0m\u001b[0;34m.\u001b[0m\u001b[0m_box_item_values\u001b[0m\u001b[0;34m(\u001b[0m\u001b[0mitem\u001b[0m\u001b[0;34m,\u001b[0m \u001b[0mvalues\u001b[0m\u001b[0;34m)\u001b[0m\u001b[0;34m\u001b[0m\u001b[0m\n\u001b[1;32m   1844\u001b[0m             \u001b[0mcache\u001b[0m\u001b[0;34m[\u001b[0m\u001b[0mitem\u001b[0m\u001b[0;34m]\u001b[0m \u001b[0;34m=\u001b[0m \u001b[0mres\u001b[0m\u001b[0;34m\u001b[0m\u001b[0m\n",
      "\u001b[0;32m~/anaconda3/lib/python3.6/site-packages/pandas/core/internals.py\u001b[0m in \u001b[0;36mget\u001b[0;34m(self, item, fastpath)\u001b[0m\n\u001b[1;32m   3841\u001b[0m \u001b[0;34m\u001b[0m\u001b[0m\n\u001b[1;32m   3842\u001b[0m             \u001b[0;32mif\u001b[0m \u001b[0;32mnot\u001b[0m \u001b[0misna\u001b[0m\u001b[0;34m(\u001b[0m\u001b[0mitem\u001b[0m\u001b[0;34m)\u001b[0m\u001b[0;34m:\u001b[0m\u001b[0;34m\u001b[0m\u001b[0m\n\u001b[0;32m-> 3843\u001b[0;31m                 \u001b[0mloc\u001b[0m \u001b[0;34m=\u001b[0m \u001b[0mself\u001b[0m\u001b[0;34m.\u001b[0m\u001b[0mitems\u001b[0m\u001b[0;34m.\u001b[0m\u001b[0mget_loc\u001b[0m\u001b[0;34m(\u001b[0m\u001b[0mitem\u001b[0m\u001b[0;34m)\u001b[0m\u001b[0;34m\u001b[0m\u001b[0m\n\u001b[0m\u001b[1;32m   3844\u001b[0m             \u001b[0;32melse\u001b[0m\u001b[0;34m:\u001b[0m\u001b[0;34m\u001b[0m\u001b[0m\n\u001b[1;32m   3845\u001b[0m                 \u001b[0mindexer\u001b[0m \u001b[0;34m=\u001b[0m \u001b[0mnp\u001b[0m\u001b[0;34m.\u001b[0m\u001b[0marange\u001b[0m\u001b[0;34m(\u001b[0m\u001b[0mlen\u001b[0m\u001b[0;34m(\u001b[0m\u001b[0mself\u001b[0m\u001b[0;34m.\u001b[0m\u001b[0mitems\u001b[0m\u001b[0;34m)\u001b[0m\u001b[0;34m)\u001b[0m\u001b[0;34m[\u001b[0m\u001b[0misna\u001b[0m\u001b[0;34m(\u001b[0m\u001b[0mself\u001b[0m\u001b[0;34m.\u001b[0m\u001b[0mitems\u001b[0m\u001b[0;34m)\u001b[0m\u001b[0;34m]\u001b[0m\u001b[0;34m\u001b[0m\u001b[0m\n",
      "\u001b[0;32m~/anaconda3/lib/python3.6/site-packages/pandas/core/indexes/base.py\u001b[0m in \u001b[0;36mget_loc\u001b[0;34m(self, key, method, tolerance)\u001b[0m\n\u001b[1;32m   2525\u001b[0m                 \u001b[0;32mreturn\u001b[0m \u001b[0mself\u001b[0m\u001b[0;34m.\u001b[0m\u001b[0m_engine\u001b[0m\u001b[0;34m.\u001b[0m\u001b[0mget_loc\u001b[0m\u001b[0;34m(\u001b[0m\u001b[0mkey\u001b[0m\u001b[0;34m)\u001b[0m\u001b[0;34m\u001b[0m\u001b[0m\n\u001b[1;32m   2526\u001b[0m             \u001b[0;32mexcept\u001b[0m \u001b[0mKeyError\u001b[0m\u001b[0;34m:\u001b[0m\u001b[0;34m\u001b[0m\u001b[0m\n\u001b[0;32m-> 2527\u001b[0;31m                 \u001b[0;32mreturn\u001b[0m \u001b[0mself\u001b[0m\u001b[0;34m.\u001b[0m\u001b[0m_engine\u001b[0m\u001b[0;34m.\u001b[0m\u001b[0mget_loc\u001b[0m\u001b[0;34m(\u001b[0m\u001b[0mself\u001b[0m\u001b[0;34m.\u001b[0m\u001b[0m_maybe_cast_indexer\u001b[0m\u001b[0;34m(\u001b[0m\u001b[0mkey\u001b[0m\u001b[0;34m)\u001b[0m\u001b[0;34m)\u001b[0m\u001b[0;34m\u001b[0m\u001b[0m\n\u001b[0m\u001b[1;32m   2528\u001b[0m \u001b[0;34m\u001b[0m\u001b[0m\n\u001b[1;32m   2529\u001b[0m         \u001b[0mindexer\u001b[0m \u001b[0;34m=\u001b[0m \u001b[0mself\u001b[0m\u001b[0;34m.\u001b[0m\u001b[0mget_indexer\u001b[0m\u001b[0;34m(\u001b[0m\u001b[0;34m[\u001b[0m\u001b[0mkey\u001b[0m\u001b[0;34m]\u001b[0m\u001b[0;34m,\u001b[0m \u001b[0mmethod\u001b[0m\u001b[0;34m=\u001b[0m\u001b[0mmethod\u001b[0m\u001b[0;34m,\u001b[0m \u001b[0mtolerance\u001b[0m\u001b[0;34m=\u001b[0m\u001b[0mtolerance\u001b[0m\u001b[0;34m)\u001b[0m\u001b[0;34m\u001b[0m\u001b[0m\n",
      "\u001b[0;32mpandas/_libs/index.pyx\u001b[0m in \u001b[0;36mpandas._libs.index.IndexEngine.get_loc\u001b[0;34m()\u001b[0m\n",
      "\u001b[0;32mpandas/_libs/index.pyx\u001b[0m in \u001b[0;36mpandas._libs.index.IndexEngine.get_loc\u001b[0;34m()\u001b[0m\n",
      "\u001b[0;32mpandas/_libs/hashtable_class_helper.pxi\u001b[0m in \u001b[0;36mpandas._libs.hashtable.PyObjectHashTable.get_item\u001b[0;34m()\u001b[0m\n",
      "\u001b[0;32mpandas/_libs/hashtable_class_helper.pxi\u001b[0m in \u001b[0;36mpandas._libs.hashtable.PyObjectHashTable.get_item\u001b[0;34m()\u001b[0m\n",
      "\u001b[0;31mKeyError\u001b[0m: 'age'"
     ]
    }
   ],
   "source": [
    "# Par souci d'optimisation, mettez les cols qui sont en int64 en int8 ?\n",
    "df['age', 'tauxmax'] = df['age'].astype('int8')\n",
    "df['tauxmax'] = df['tauxmax'].astype('int8')\n",
    "df['depression'] = df['depression'].astype('int8')\n",
    "\n",
    "import numpy\n",
    "for col in df.columns:\n",
    "    if df[col].dtypes == 'int64':\n",
    "           df[col] = df[col].astype(np.int8)\n",
    "df.dtypes\n",
    "# R : "
   ]
  },
  {
   "cell_type": "code",
   "execution_count": null,
   "metadata": {
    "collapsed": true
   },
   "outputs": [],
   "source": [
    "Q à traiter plus tard : Comment faire la même manip (sans relire le fichier) ? "
   ]
  },
  {
   "cell_type": "raw",
   "metadata": {},
   "source": [
    "Supposons que ns avons à travailler sur un fichier avec des nombres avec des chiffres après la virgule (ou point pr spécifier un décimal (US Vs. EU)\n",
    "Trouvez l'option ds pd.read_table() qui permet de le spécifier ? \n",
    "# R : \n",
    "\n",
    "pd.read_table(decimal=',')"
   ]
  },
  {
   "cell_type": "markdown",
   "metadata": {},
   "source": [
    "### Description des données"
   ]
  },
  {
   "cell_type": "code",
   "execution_count": 56,
   "metadata": {},
   "outputs": [
    {
     "data": {
      "text/html": [
       "<div>\n",
       "<style scoped>\n",
       "    .dataframe tbody tr th:only-of-type {\n",
       "        vertical-align: middle;\n",
       "    }\n",
       "\n",
       "    .dataframe tbody tr th {\n",
       "        vertical-align: top;\n",
       "    }\n",
       "\n",
       "    .dataframe thead th {\n",
       "        text-align: right;\n",
       "    }\n",
       "</style>\n",
       "<table border=\"1\" class=\"dataframe\">\n",
       "  <thead>\n",
       "    <tr style=\"text-align: right;\">\n",
       "      <th></th>\n",
       "      <th>age</th>\n",
       "      <th>tauxmax</th>\n",
       "      <th>depression</th>\n",
       "    </tr>\n",
       "  </thead>\n",
       "  <tbody>\n",
       "    <tr>\n",
       "      <th>count</th>\n",
       "      <td>270.000000</td>\n",
       "      <td>270.000000</td>\n",
       "      <td>270.000000</td>\n",
       "    </tr>\n",
       "    <tr>\n",
       "      <th>mean</th>\n",
       "      <td>54.433333</td>\n",
       "      <td>-56.070370</td>\n",
       "      <td>10.500000</td>\n",
       "    </tr>\n",
       "    <tr>\n",
       "      <th>std</th>\n",
       "      <td>9.109067</td>\n",
       "      <td>85.272833</td>\n",
       "      <td>11.452098</td>\n",
       "    </tr>\n",
       "    <tr>\n",
       "      <th>min</th>\n",
       "      <td>29.000000</td>\n",
       "      <td>-128.000000</td>\n",
       "      <td>0.000000</td>\n",
       "    </tr>\n",
       "    <tr>\n",
       "      <th>50%</th>\n",
       "      <td>55.000000</td>\n",
       "      <td>-93.000000</td>\n",
       "      <td>8.000000</td>\n",
       "    </tr>\n",
       "    <tr>\n",
       "      <th>max</th>\n",
       "      <td>77.000000</td>\n",
       "      <td>127.000000</td>\n",
       "      <td>62.000000</td>\n",
       "    </tr>\n",
       "  </tbody>\n",
       "</table>\n",
       "</div>"
      ],
      "text/plain": [
       "              age     tauxmax  depression\n",
       "count  270.000000  270.000000  270.000000\n",
       "mean    54.433333  -56.070370   10.500000\n",
       "std      9.109067   85.272833   11.452098\n",
       "min     29.000000 -128.000000    0.000000\n",
       "50%     55.000000  -93.000000    8.000000\n",
       "max     77.000000  127.000000   62.000000"
      ]
     },
     "execution_count": 56,
     "metadata": {},
     "output_type": "execute_result"
    }
   ],
   "source": [
    "# Trouvez une commande pr présenter les statistiques descriptives de tt le df (min, max, moy,...) ?  \n",
    "# R : \n",
    "df_sante.describe(percentiles=[])"
   ]
  },
  {
   "cell_type": "raw",
   "metadata": {},
   "source": [
    "Explication : \n",
    "Certains indicateurs statistiques ne sont valables que pour : \n",
    "# les variables numériques (ex. moyenne, min, etc. pour age, tauxmax,...),\n",
    "# et inversemment pour les non-numériques (ex. top, freq, etc. pour sexe, typedouleur, ...),\n",
    "# d'où les NaN dans certaines situations.\n",
    "Est-ce que ce résultat vs convient ?! \n",
    "# Pr plus de clarté, ns souhaitons afficher les stats pr les vars num dans un 1er tps (1è commande ?)\n",
    "# Et ds un 2sd tps les vars de type objects (2è commande ?)\n",
    "# Comment faire ? "
   ]
  },
  {
   "cell_type": "code",
   "execution_count": 188,
   "metadata": {},
   "outputs": [
    {
     "data": {
      "text/html": [
       "<div>\n",
       "<style scoped>\n",
       "    .dataframe tbody tr th:only-of-type {\n",
       "        vertical-align: middle;\n",
       "    }\n",
       "\n",
       "    .dataframe tbody tr th {\n",
       "        vertical-align: top;\n",
       "    }\n",
       "\n",
       "    .dataframe thead th {\n",
       "        text-align: right;\n",
       "    }\n",
       "</style>\n",
       "<table border=\"1\" class=\"dataframe\">\n",
       "  <thead>\n",
       "    <tr style=\"text-align: right;\">\n",
       "      <th></th>\n",
       "      <th>age</th>\n",
       "      <th>tauxmax</th>\n",
       "      <th>depression</th>\n",
       "    </tr>\n",
       "  </thead>\n",
       "  <tbody>\n",
       "    <tr>\n",
       "      <th>count</th>\n",
       "      <td>270.000000</td>\n",
       "      <td>270.000000</td>\n",
       "      <td>270.000000</td>\n",
       "    </tr>\n",
       "    <tr>\n",
       "      <th>mean</th>\n",
       "      <td>54.433333</td>\n",
       "      <td>149.677778</td>\n",
       "      <td>10.500000</td>\n",
       "    </tr>\n",
       "    <tr>\n",
       "      <th>std</th>\n",
       "      <td>9.109067</td>\n",
       "      <td>23.165717</td>\n",
       "      <td>11.452098</td>\n",
       "    </tr>\n",
       "    <tr>\n",
       "      <th>min</th>\n",
       "      <td>29.000000</td>\n",
       "      <td>71.000000</td>\n",
       "      <td>0.000000</td>\n",
       "    </tr>\n",
       "    <tr>\n",
       "      <th>25%</th>\n",
       "      <td>48.000000</td>\n",
       "      <td>133.000000</td>\n",
       "      <td>0.000000</td>\n",
       "    </tr>\n",
       "    <tr>\n",
       "      <th>50%</th>\n",
       "      <td>55.000000</td>\n",
       "      <td>153.500000</td>\n",
       "      <td>8.000000</td>\n",
       "    </tr>\n",
       "    <tr>\n",
       "      <th>75%</th>\n",
       "      <td>61.000000</td>\n",
       "      <td>166.000000</td>\n",
       "      <td>16.000000</td>\n",
       "    </tr>\n",
       "    <tr>\n",
       "      <th>max</th>\n",
       "      <td>77.000000</td>\n",
       "      <td>202.000000</td>\n",
       "      <td>62.000000</td>\n",
       "    </tr>\n",
       "  </tbody>\n",
       "</table>\n",
       "</div>"
      ],
      "text/plain": [
       "              age     tauxmax  depression\n",
       "count  270.000000  270.000000  270.000000\n",
       "mean    54.433333  149.677778   10.500000\n",
       "std      9.109067   23.165717   11.452098\n",
       "min     29.000000   71.000000    0.000000\n",
       "25%     48.000000  133.000000    0.000000\n",
       "50%     55.000000  153.500000    8.000000\n",
       "75%     61.000000  166.000000   16.000000\n",
       "max     77.000000  202.000000   62.000000"
      ]
     },
     "execution_count": 188,
     "metadata": {},
     "output_type": "execute_result"
    }
   ],
   "source": [
    "# Stats desc pr les vars num ? \n",
    "# R : \n",
    "df.describe()"
   ]
  },
  {
   "cell_type": "code",
   "execution_count": null,
   "metadata": {
    "collapsed": true
   },
   "outputs": [],
   "source": [
    "# Stats desc pr les vars non-num ? \n",
    "# R : \n",
    "import numpy as np\n",
    "df.describe(include=[np.object])"
   ]
  },
  {
   "cell_type": "markdown",
   "metadata": {},
   "source": [
    "## Manipulation des variables"
   ]
  },
  {
   "cell_type": "markdown",
   "metadata": {},
   "source": [
    "### Accès aux variables\n",
    "\n",
    "Il est possible d'accéder explicitement aux variables. Dans un premier temps, nous utilisons directement les noms des champs (les noms des variables, en en-tête de colonne)."
   ]
  },
  {
   "cell_type": "code",
   "execution_count": null,
   "metadata": {
    "collapsed": true
   },
   "outputs": [],
   "source": [
    "# Accès à une colonne de votre choix ? \n",
    "# R : \n",
    "df.age"
   ]
  },
  {
   "cell_type": "code",
   "execution_count": null,
   "metadata": {
    "collapsed": true
   },
   "outputs": [],
   "source": [
    "# Autre manière d'accéder à une colonne avec le \".  ? \n",
    "# R : \n",
    "df.get('sexe')"
   ]
  },
  {
   "cell_type": "code",
   "execution_count": 191,
   "metadata": {},
   "outputs": [
    {
     "name": "stdout",
     "output_type": "stream",
     "text": [
      "         sexe sucre\n",
      "0    masculin     A\n",
      "1     feminin     A\n",
      "2    masculin     A\n",
      "3    masculin     A\n",
      "4     feminin     A\n",
      "5    masculin     A\n",
      "6    masculin     B\n",
      "7    masculin     A\n",
      "8    masculin     A\n",
      "9     feminin     A\n",
      "10   masculin     A\n",
      "11   masculin     A\n",
      "12   masculin     A\n",
      "13   masculin     A\n",
      "14    feminin     A\n",
      "15    feminin     A\n",
      "16   masculin     A\n",
      "17   masculin     B\n",
      "18   masculin     A\n",
      "19   masculin     A\n",
      "20   masculin     A\n",
      "21   masculin     A\n",
      "22   masculin     A\n",
      "23   masculin     A\n",
      "24    feminin     B\n",
      "25    feminin     A\n",
      "26    feminin     A\n",
      "27    feminin     A\n",
      "28   masculin     A\n",
      "29    feminin     B\n",
      "..        ...   ...\n",
      "240  masculin     B\n",
      "241  masculin     A\n",
      "242   feminin     A\n",
      "243   feminin     A\n",
      "244   feminin     A\n",
      "245  masculin     A\n",
      "246  masculin     A\n",
      "247   feminin     A\n",
      "248  masculin     A\n",
      "249  masculin     A\n",
      "250  masculin     A\n",
      "251  masculin     A\n",
      "252  masculin     A\n",
      "253  masculin     A\n",
      "254  masculin     B\n",
      "255   feminin     A\n",
      "256  masculin     B\n",
      "257  masculin     A\n",
      "258  masculin     A\n",
      "259  masculin     A\n",
      "260   feminin     A\n",
      "261  masculin     A\n",
      "262  masculin     A\n",
      "263  masculin     A\n",
      "264  masculin     A\n",
      "265  masculin     B\n",
      "266  masculin     A\n",
      "267   feminin     A\n",
      "268  masculin     A\n",
      "269  masculin     A\n",
      "\n",
      "[270 rows x 2 columns]\n"
     ]
    }
   ],
   "source": [
    "# Accéder à un ensemble de colonnes ? \n",
    "# R : \n",
    "\n",
    "mask = (df[['sexe','sucre']])\n",
    "print(mask)"
   ]
  },
  {
   "cell_type": "code",
   "execution_count": null,
   "metadata": {
    "collapsed": true
   },
   "outputs": [],
   "source": [
    "# Une colonne est un vecteur (Series en terminologie Pandas)\n",
    "# Affichage des premières valeurs\n",
    "# R : \n",
    "df.sexe.head()"
   ]
  },
  {
   "cell_type": "code",
   "execution_count": null,
   "metadata": {
    "collapsed": true
   },
   "outputs": [],
   "source": [
    "# Affichage des dernières valeurs\n",
    "# R : \n",
    "df.sexe.tail()"
   ]
  },
  {
   "cell_type": "code",
   "execution_count": null,
   "metadata": {
    "collapsed": true
   },
   "outputs": [],
   "source": [
    "# Statistique descriptive d'une col. Pour plus de détails, voir :\n",
    "# http://pandas.pydata.org/pandas-docs/stable/basics.html#summarizing-data-describe\n",
    "# R : \n",
    "df.sexe.describe()"
   ]
  },
  {
   "cell_type": "code",
   "execution_count": null,
   "metadata": {
    "collapsed": true
   },
   "outputs": [],
   "source": [
    "# Calculer explicitement la moyenne, par ex col \"age\"\n",
    "# R : \n",
    "df.age.mean()"
   ]
  },
  {
   "cell_type": "code",
   "execution_count": 220,
   "metadata": {},
   "outputs": [
    {
     "data": {
      "text/plain": [
       "D    129\n",
       "C     79\n",
       "B     42\n",
       "A     20\n",
       "Name: type_douleur, dtype: int64"
      ]
     },
     "execution_count": 220,
     "metadata": {},
     "output_type": "execute_result"
    }
   ],
   "source": [
    "# Comptage des valeurs, par ex col \"typedouleur\"\n",
    "# R : \n",
    "df_sante.type_douleur.value_counts()"
   ]
  },
  {
   "cell_type": "code",
   "execution_count": 75,
   "metadata": {},
   "outputs": [
    {
     "data": {
      "text/plain": [
       "70"
      ]
     },
     "execution_count": 75,
     "metadata": {},
     "output_type": "execute_result"
    }
   ],
   "source": [
    "# Un type Series est un vecteur, il est possible d'utiliser des indices\n",
    "# Première valeur ? \n",
    "# R : \n",
    "df_sante.age.loc[0]\n",
    "df_sante.age[0]"
   ]
  },
  {
   "cell_type": "code",
   "execution_count": null,
   "metadata": {
    "collapsed": true
   },
   "outputs": [],
   "source": [
    "# 3 premières valeurs ? \n",
    "# R : \n",
    "df.age.loc[0:2]"
   ]
  },
  {
   "cell_type": "code",
   "execution_count": null,
   "metadata": {
    "collapsed": true
   },
   "outputs": [],
   "source": [
    "# Triez les valeurs d'une variable de manière croissante ? \n",
    "# R : \n",
    "df.age.sort_values()"
   ]
  },
  {
   "cell_type": "code",
   "execution_count": null,
   "metadata": {
    "collapsed": true
   },
   "outputs": [],
   "source": [
    "# le tri peut être généralisé aux DataFrame\n",
    "# par exemple : triez le df selon l'âge puis afficher les 1è lignes\n",
    "# R : \n",
    "df.sort_values(by='age')"
   ]
  },
  {
   "cell_type": "markdown",
   "metadata": {},
   "source": [
    "## Accès indicé aux données d'un DataFrame\n",
    "On peut accéder aux valeurs du DataFrame via des indices ou plages d'indice. La structure se comporte alors comme une matrice. La cellule en haut et à gauche est de coordonnées (0,0).\n",
    "\n",
    "Il y a différentes manières de le faire, l'utilisation de .iloc[,] constitue une des solutions les plus simples. N'oublions pas que Shape permet d'obtenir les dimensions (lignes et colonnes) du DataFrame."
   ]
  },
  {
   "cell_type": "code",
   "execution_count": 8,
   "metadata": {},
   "outputs": [
    {
     "data": {
      "text/plain": [
       "70"
      ]
     },
     "execution_count": 8,
     "metadata": {},
     "output_type": "execute_result"
    }
   ],
   "source": [
    "# Accèdez à la valeur située en (0,0) ?\n",
    "# R : \n",
    "import os\n",
    "os.chdir('Data')\n",
    "df = pd.read_table('sante.txt')\n",
    "df.iloc[0,0]"
   ]
  },
  {
   "cell_type": "code",
   "execution_count": null,
   "metadata": {
    "collapsed": true
   },
   "outputs": [],
   "source": [
    "# Accédez à la valeur située en dernière ligne, première colonne ? \n",
    "# indice : utilisez l'indiçage négatif\n",
    "# R : \n",
    "df.iloc[-1, 0]"
   ]
  },
  {
   "cell_type": "code",
   "execution_count": null,
   "metadata": {
    "collapsed": true
   },
   "outputs": [],
   "source": [
    "# Accédez la valeur située en dernière ligne, première colonne ? \n",
    "# indice : shape[0] renvoie le nombre de lignes (1è dimension) qu'il faut réduire de -1 parce que le 1è indice est égal à 0. \n",
    "# sinon on déborde\n",
    "# R : \n",
    "\n",
    "df.iloc[df.shape[0]-1,0]"
   ]
  },
  {
   "cell_type": "code",
   "execution_count": null,
   "metadata": {
    "collapsed": true
   },
   "outputs": [],
   "source": [
    "# Accédez aux 5 premières valeurs de toutes les colonnes ? \n",
    "# lignes => 0:5 (0 à 5 [non inclus])\n",
    "# colonnes = : (toutes les colonnes)\n",
    "df.loc[0:5]"
   ]
  },
  {
   "cell_type": "code",
   "execution_count": 67,
   "metadata": {},
   "outputs": [
    {
     "data": {
      "text/html": [
       "<div>\n",
       "<style scoped>\n",
       "    .dataframe tbody tr th:only-of-type {\n",
       "        vertical-align: middle;\n",
       "    }\n",
       "\n",
       "    .dataframe tbody tr th {\n",
       "        vertical-align: top;\n",
       "    }\n",
       "\n",
       "    .dataframe thead th {\n",
       "        text-align: right;\n",
       "    }\n",
       "</style>\n",
       "<table border=\"1\" class=\"dataframe\">\n",
       "  <thead>\n",
       "    <tr style=\"text-align: right;\">\n",
       "      <th></th>\n",
       "      <th>age</th>\n",
       "      <th>sexe</th>\n",
       "      <th>typedouleur</th>\n",
       "      <th>sucre</th>\n",
       "      <th>tauxmax</th>\n",
       "      <th>angine</th>\n",
       "      <th>depression</th>\n",
       "      <th>coeur</th>\n",
       "    </tr>\n",
       "  </thead>\n",
       "  <tbody>\n",
       "    <tr>\n",
       "      <th>265</th>\n",
       "      <td>52</td>\n",
       "      <td>masculin</td>\n",
       "      <td>C</td>\n",
       "      <td>B</td>\n",
       "      <td>162</td>\n",
       "      <td>non</td>\n",
       "      <td>5</td>\n",
       "      <td>absence</td>\n",
       "    </tr>\n",
       "    <tr>\n",
       "      <th>266</th>\n",
       "      <td>44</td>\n",
       "      <td>masculin</td>\n",
       "      <td>B</td>\n",
       "      <td>A</td>\n",
       "      <td>173</td>\n",
       "      <td>non</td>\n",
       "      <td>0</td>\n",
       "      <td>absence</td>\n",
       "    </tr>\n",
       "    <tr>\n",
       "      <th>267</th>\n",
       "      <td>56</td>\n",
       "      <td>feminin</td>\n",
       "      <td>B</td>\n",
       "      <td>A</td>\n",
       "      <td>153</td>\n",
       "      <td>non</td>\n",
       "      <td>13</td>\n",
       "      <td>absence</td>\n",
       "    </tr>\n",
       "    <tr>\n",
       "      <th>268</th>\n",
       "      <td>57</td>\n",
       "      <td>masculin</td>\n",
       "      <td>D</td>\n",
       "      <td>A</td>\n",
       "      <td>148</td>\n",
       "      <td>non</td>\n",
       "      <td>4</td>\n",
       "      <td>absence</td>\n",
       "    </tr>\n",
       "    <tr>\n",
       "      <th>269</th>\n",
       "      <td>67</td>\n",
       "      <td>masculin</td>\n",
       "      <td>D</td>\n",
       "      <td>A</td>\n",
       "      <td>108</td>\n",
       "      <td>oui</td>\n",
       "      <td>15</td>\n",
       "      <td>presence</td>\n",
       "    </tr>\n",
       "  </tbody>\n",
       "</table>\n",
       "</div>"
      ],
      "text/plain": [
       "     age      sexe typedouleur sucre  tauxmax angine  depression     coeur\n",
       "265   52  masculin           C     B      162    non           5   absence\n",
       "266   44  masculin           B     A      173    non           0   absence\n",
       "267   56   feminin           B     A      153    non          13   absence\n",
       "268   57  masculin           D     A      148    non           4   absence\n",
       "269   67  masculin           D     A      108    oui          15  presence"
      ]
     },
     "execution_count": 67,
     "metadata": {},
     "output_type": "execute_result"
    }
   ],
   "source": [
    "# Accéder aux 5 dernières lignes du df ? avec l'indiçage négatif, on le peut facilement \n",
    "df_sante.iloc[-5:]"
   ]
  },
  {
   "cell_type": "code",
   "execution_count": 52,
   "metadata": {},
   "outputs": [
    {
     "data": {
      "text/html": [
       "<div>\n",
       "<style scoped>\n",
       "    .dataframe tbody tr th:only-of-type {\n",
       "        vertical-align: middle;\n",
       "    }\n",
       "\n",
       "    .dataframe tbody tr th {\n",
       "        vertical-align: top;\n",
       "    }\n",
       "\n",
       "    .dataframe thead th {\n",
       "        text-align: right;\n",
       "    }\n",
       "</style>\n",
       "<table border=\"1\" class=\"dataframe\">\n",
       "  <thead>\n",
       "    <tr style=\"text-align: right;\">\n",
       "      <th></th>\n",
       "      <th>age</th>\n",
       "      <th>sexe</th>\n",
       "    </tr>\n",
       "  </thead>\n",
       "  <tbody>\n",
       "    <tr>\n",
       "      <th>0</th>\n",
       "      <td>70</td>\n",
       "      <td>masculin</td>\n",
       "    </tr>\n",
       "    <tr>\n",
       "      <th>1</th>\n",
       "      <td>67</td>\n",
       "      <td>feminin</td>\n",
       "    </tr>\n",
       "    <tr>\n",
       "      <th>2</th>\n",
       "      <td>57</td>\n",
       "      <td>masculin</td>\n",
       "    </tr>\n",
       "    <tr>\n",
       "      <th>3</th>\n",
       "      <td>64</td>\n",
       "      <td>masculin</td>\n",
       "    </tr>\n",
       "    <tr>\n",
       "      <th>4</th>\n",
       "      <td>74</td>\n",
       "      <td>feminin</td>\n",
       "    </tr>\n",
       "  </tbody>\n",
       "</table>\n",
       "</div>"
      ],
      "text/plain": [
       "   age      sexe\n",
       "0   70  masculin\n",
       "1   67   feminin\n",
       "2   57  masculin\n",
       "3   64  masculin\n",
       "4   74   feminin"
      ]
     },
     "execution_count": 52,
     "metadata": {},
     "output_type": "execute_result"
    }
   ],
   "source": [
    "# Accédez aux 5 premières lignes et deux premières colonnes ? \n",
    "import pandas as pd\n",
    "import os\n",
    "df_sante = pd.read_table('sante.txt')\n",
    "df_sante.iloc[0:5, 0:2]"
   ]
  },
  {
   "cell_type": "code",
   "execution_count": 10,
   "metadata": {
    "scrolled": true
   },
   "outputs": [
    {
     "name": "stdout",
     "output_type": "stream",
     "text": [
      "   age typedouleur  tauxmax\n",
      "0   70           D      109\n",
      "1   67           C      160\n",
      "2   57           B      141\n",
      "3   64           D      105\n",
      "4   74           B      121\n"
     ]
    }
   ],
   "source": [
    "# Accédez aux 5 1è lignes et colonnes 0, 1 et 4 ? \n",
    "# indice : on a une liste d'indices en colonne\n",
    "#df_sante.iloc[0:5,[0,1,4]]\n",
    "print(df.iloc[0:5,0::2])"
   ]
  },
  {
   "cell_type": "code",
   "execution_count": 12,
   "metadata": {},
   "outputs": [
    {
     "data": {
      "text/html": [
       "<div>\n",
       "<style scoped>\n",
       "    .dataframe tbody tr th:only-of-type {\n",
       "        vertical-align: middle;\n",
       "    }\n",
       "\n",
       "    .dataframe tbody tr th {\n",
       "        vertical-align: top;\n",
       "    }\n",
       "\n",
       "    .dataframe thead th {\n",
       "        text-align: right;\n",
       "    }\n",
       "</style>\n",
       "<table border=\"1\" class=\"dataframe\">\n",
       "  <thead>\n",
       "    <tr style=\"text-align: right;\">\n",
       "      <th></th>\n",
       "      <th>age</th>\n",
       "      <th>sexe</th>\n",
       "      <th>tauxmax</th>\n",
       "    </tr>\n",
       "  </thead>\n",
       "  <tbody>\n",
       "    <tr>\n",
       "      <th>0</th>\n",
       "      <td>70</td>\n",
       "      <td>masculin</td>\n",
       "      <td>109</td>\n",
       "    </tr>\n",
       "    <tr>\n",
       "      <th>1</th>\n",
       "      <td>67</td>\n",
       "      <td>feminin</td>\n",
       "      <td>160</td>\n",
       "    </tr>\n",
       "    <tr>\n",
       "      <th>2</th>\n",
       "      <td>57</td>\n",
       "      <td>masculin</td>\n",
       "      <td>141</td>\n",
       "    </tr>\n",
       "    <tr>\n",
       "      <th>3</th>\n",
       "      <td>64</td>\n",
       "      <td>masculin</td>\n",
       "      <td>105</td>\n",
       "    </tr>\n",
       "    <tr>\n",
       "      <th>4</th>\n",
       "      <td>74</td>\n",
       "      <td>feminin</td>\n",
       "      <td>121</td>\n",
       "    </tr>\n",
       "    <tr>\n",
       "      <th>5</th>\n",
       "      <td>65</td>\n",
       "      <td>masculin</td>\n",
       "      <td>140</td>\n",
       "    </tr>\n",
       "  </tbody>\n",
       "</table>\n",
       "</div>"
      ],
      "text/plain": [
       "   age      sexe  tauxmax\n",
       "0   70  masculin      109\n",
       "1   67   feminin      160\n",
       "2   57  masculin      141\n",
       "3   64  masculin      105\n",
       "4   74   feminin      121\n",
       "5   65  masculin      140"
      ]
     },
     "execution_count": 12,
     "metadata": {},
     "output_type": "execute_result"
    }
   ],
   "source": [
    "# faites la même chose autrement ?\n",
    "# indice : remarquez le rôle de 2 dans 0:5:2\n",
    "df.loc[0:5, ['age', 'sexe', 'tauxmax']]"
   ]
  },
  {
   "cell_type": "markdown",
   "metadata": {
    "collapsed": true
   },
   "source": [
    "## Restrictions avec les conditions - Les requêtes\n",
    "\n",
    "Nous pouvons isoler les sous-ensembles d'observations répondant à des critères définis sur les champs. Nous utiliserons préférentiellement la méthode .loc[,] dans ce cadre."
   ]
  },
  {
   "cell_type": "code",
   "execution_count": 156,
   "metadata": {},
   "outputs": [
    {
     "name": "stdout",
     "output_type": "stream",
     "text": [
      "     age      sexe typedouleur sucre  tauxmax angine  depression     coeur\n",
      "13    61  masculin           A     A      145    non          26  presence\n",
      "18    64  masculin           A     A      144    oui          18   absence\n",
      "19    40  masculin           A     A      178    oui          14   absence\n",
      "37    59  masculin           A     A      125    non           0  presence\n",
      "63    60   feminin           A     A      171    non           9   absence\n",
      "64    63  masculin           A     B      150    non          23   absence\n",
      "85    42  masculin           A     A      178    non           8   absence\n",
      "87    59  masculin           A     A      145    non          42   absence\n",
      "118   66   feminin           A     A      114    non          26   absence\n",
      "143   51  masculin           A     A      125    oui          14   absence\n",
      "158   56  masculin           A     A      162    non          19   absence\n",
      "160   38  masculin           A     A      182    oui          38  presence\n",
      "169   65  masculin           A     B      174    non          14  presence\n",
      "170   69  masculin           A     B      131    non           1   absence\n",
      "174   34  masculin           A     A      174    non           0   absence\n",
      "198   69   feminin           A     A      151    non          18   absence\n",
      "205   52  masculin           A     B      178    non          12   absence\n",
      "210   59  masculin           A     A      159    non           2  presence\n",
      "228   58   feminin           A     B      162    non          10   absence\n",
      "229   52  masculin           A     A      190    non           0   absence\n"
     ]
    }
   ],
   "source": [
    "# Listez les individus présentant une douleur de type A\n",
    "print(df_sante.loc[df_sante['typedouleur'] ==\"A\"])"
   ]
  },
  {
   "cell_type": "code",
   "execution_count": 159,
   "metadata": {},
   "outputs": [
    {
     "name": "stdout",
     "output_type": "stream",
     "text": [
      "False    250\n",
      "True      20\n",
      "Name: typedouleur, dtype: int64\n"
     ]
    }
   ],
   "source": [
    "# Nous constatons que l'on indexe avec un vecteur de booléens si on va dans le détail. En effet,\n",
    "\n",
    "print((df_sante['typedouleur'] ==\"A\").value_counts())"
   ]
  },
  {
   "cell_type": "markdown",
   "metadata": {},
   "source": [
    "Seules les observations correspondant à True sont repris par .loc[,]. Nous pouvons les comptabiliser :"
   ]
  },
  {
   "cell_type": "code",
   "execution_count": 142,
   "metadata": {},
   "outputs": [
    {
     "name": "stdout",
     "output_type": "stream",
     "text": [
      "False    250\n",
      "True      20\n",
      "Name: typedouleur, dtype: int64\n"
     ]
    },
    {
     "data": {
      "text/plain": [
       "False    228\n",
       "True      42\n",
       "Name: typedouleur, dtype: int64"
      ]
     },
     "execution_count": 142,
     "metadata": {},
     "output_type": "execute_result"
    }
   ],
   "source": [
    "# Comptez le nombre d'individus qui présente une douleur de type \"A\" ? \n",
    "print((df_sante['typedouleur']==\"A\").value_counts())\n",
    "(df_sante['typedouleur']==\"B\").value_counts()"
   ]
  },
  {
   "cell_type": "code",
   "execution_count": 165,
   "metadata": {},
   "outputs": [
    {
     "name": "stdout",
     "output_type": "stream",
     "text": [
      "     age      sexe typedouleur sucre  tauxmax angine  depression     coeur\n",
      "13    61  masculin           A     A      145    non          26  presence\n",
      "18    64  masculin           A     A      144    oui          18   absence\n",
      "19    40  masculin           A     A      178    oui          14   absence\n",
      "37    59  masculin           A     A      125    non           0  presence\n",
      "63    60   feminin           A     A      171    non           9   absence\n",
      "64    63  masculin           A     B      150    non          23   absence\n",
      "85    42  masculin           A     A      178    non           8   absence\n",
      "87    59  masculin           A     A      145    non          42   absence\n",
      "118   66   feminin           A     A      114    non          26   absence\n",
      "143   51  masculin           A     A      125    oui          14   absence\n",
      "158   56  masculin           A     A      162    non          19   absence\n",
      "160   38  masculin           A     A      182    oui          38  presence\n",
      "169   65  masculin           A     B      174    non          14  presence\n",
      "170   69  masculin           A     B      131    non           1   absence\n",
      "174   34  masculin           A     A      174    non           0   absence\n",
      "198   69   feminin           A     A      151    non          18   absence\n",
      "205   52  masculin           A     B      178    non          12   absence\n",
      "210   59  masculin           A     A      159    non           2  presence\n",
      "228   58   feminin           A     B      162    non          10   absence\n",
      "229   52  masculin           A     A      190    non           0   absence\n"
     ]
    }
   ],
   "source": [
    "# pour un ensemble de valeurs de la même variable,\n",
    "# nous utilisons isin()\n",
    "print(df_sante.loc[df_sante['typedouleur'].isin(['A','E'])])"
   ]
  },
  {
   "cell_type": "markdown",
   "metadata": {},
   "source": [
    "Des opérateurs logiques permettent de combiner les conditions. Nous utilisons respectivement : & pour ET, | pour OU, et ~ pour la négation."
   ]
  },
  {
   "cell_type": "code",
   "execution_count": 167,
   "metadata": {},
   "outputs": [
    {
     "name": "stdout",
     "output_type": "stream",
     "text": [
      "     age      sexe typedouleur sucre  tauxmax angine  depression     coeur\n",
      "18    64  masculin           A     A      144    oui          18   absence\n",
      "19    40  masculin           A     A      178    oui          14   absence\n",
      "143   51  masculin           A     A      125    oui          14   absence\n",
      "160   38  masculin           A     A      182    oui          38  presence\n"
     ]
    }
   ],
   "source": [
    "# Listez les individus présentant une douleur de type A et angine == oui ? \n",
    "print(df_sante.loc[(df_sante['typedouleur']==\"A\") & (df_sante['angine']==\"oui\")])"
   ]
  },
  {
   "cell_type": "code",
   "execution_count": 170,
   "metadata": {},
   "outputs": [
    {
     "name": "stdout",
     "output_type": "stream",
     "text": [
      "     age      sexe typedouleur sucre  tauxmax angine  depression     coeur\n",
      "40    40  masculin           D     A      181    non           0  presence\n",
      "47    44  masculin           D     A      177    non           0  presence\n",
      "50    42  masculin           D     A      125    oui          18  presence\n",
      "81    35  masculin           D     A      130    oui          16  presence\n",
      "147   40  masculin           D     A      114    oui          20  presence\n",
      "160   38  masculin           A     A      182    oui          38  presence\n",
      "182   41  masculin           D     A      158    non           0  presence\n",
      "193   35  masculin           D     A      156    oui           0  presence\n",
      "231   39  masculin           D     A      140    non          12  presence\n",
      "237   43  masculin           D     A      120    oui          25  presence\n",
      "252   44  masculin           D     A      153    non           0  presence\n"
     ]
    }
   ],
   "source": [
    "# Liste les personnes de moins de 45 ans, de sexe masculin, présentant une maladie cardiaque ? \n",
    "print(df_sante.loc[(df_sante['age'] < 45) & (df_sante['sexe']==\"masculin\") & (df_sante['coeur']==\"presence\")])"
   ]
  },
  {
   "cell_type": "code",
   "execution_count": 174,
   "metadata": {},
   "outputs": [
    {
     "name": "stdout",
     "output_type": "stream",
     "text": [
      "     age      sexe     coeur  tauxmax\n",
      "40    40  masculin  presence      181\n",
      "47    44  masculin  presence      177\n",
      "50    42  masculin  presence      125\n",
      "81    35  masculin  presence      130\n",
      "147   40  masculin  presence      114\n",
      "160   38  masculin  presence      182\n",
      "182   41  masculin  presence      158\n",
      "193   35  masculin  presence      156\n",
      "231   39  masculin  presence      140\n",
      "237   43  masculin  presence      120\n",
      "252   44  masculin  presence      153\n"
     ]
    }
   ],
   "source": [
    "# On peut n'afficher qu'une partie des colonnes\n",
    "# On définit la projection dans une liste\n",
    "colonnes = ['age','sexe','coeur','tauxmax']\n",
    "# que l'on utilise en paramètre dans .loc[]\n",
    "# pour la même restruction que précédemment\n",
    "print(df_sante.loc[(df_sante['age'] < 45) & (df_sante['sexe'] == \"masculin\") & (df_sante['coeur'] == \"presence\"),colonnes])"
   ]
  },
  {
   "cell_type": "markdown",
   "metadata": {},
   "source": [
    "## Calculs récapitulatifs - Croisement des variables\n",
    "\n",
    "A la manière des tableaux croisés dynamiques (TCD) d'Excel, nous pouvons procéder à des croisements et opérer des calculs récapitulatifs, qui vont du comptage simple aux calculs statistiques mettent en jeu d'autres variables."
   ]
  },
  {
   "cell_type": "code",
   "execution_count": 205,
   "metadata": {},
   "outputs": [
    {
     "name": "stdout",
     "output_type": "stream",
     "text": [
      "coeur     absence  presence\n",
      "sexe                       \n",
      "feminin        67        20\n",
      "masculin       83       100\n"
     ]
    }
   ],
   "source": [
    "# Fréquences selon sexe et coeur (tri croisé) ? \n",
    "# voir : http://pandas.pydata.org/pandas-docs/stable/generated/pandas.crosstab.html\n",
    "\n",
    "print((pd.crosstab(df['sexe'],df['coeur'])))"
   ]
  },
  {
   "cell_type": "code",
   "execution_count": 208,
   "metadata": {},
   "outputs": [
    {
     "name": "stdout",
     "output_type": "stream",
     "text": [
      "coeur      absence  presence\n",
      "sexe                        \n",
      "feminin   0.770115  0.229885\n",
      "masculin  0.453552  0.546448\n"
     ]
    }
   ],
   "source": [
    "# Le même tri croisé mais avec un pourcentage en ligne ?\n",
    "# indice : ns pouvons demander un post-traitement après la commande précedente !\n",
    "print((pd.crosstab(df['sexe'],df['coeur'], normalize='index')))"
   ]
  },
  {
   "cell_type": "code",
   "execution_count": 4,
   "metadata": {},
   "outputs": [
    {
     "ename": "NameError",
     "evalue": "name 'df_sante' is not defined",
     "output_type": "error",
     "traceback": [
      "\u001b[0;31m---------------------------------------------------------------------------\u001b[0m",
      "\u001b[0;31mNameError\u001b[0m                                 Traceback (most recent call last)",
      "\u001b[0;32m<ipython-input-4-4fe4a9370742>\u001b[0m in \u001b[0;36m<module>\u001b[0;34m()\u001b[0m\n\u001b[1;32m     11\u001b[0m \u001b[0;31m#print(pd.crosstab(df_sante['sexe'],df_sante['coeur'], values=df_sante['age'],aggfunc=pd.Series.mean))\u001b[0m\u001b[0;34m\u001b[0m\u001b[0;34m\u001b[0m\u001b[0m\n\u001b[1;32m     12\u001b[0m \u001b[0;31m#df_sante.taux_max.mean()\u001b[0m\u001b[0;34m\u001b[0m\u001b[0;34m\u001b[0m\u001b[0m\n\u001b[0;32m---> 13\u001b[0;31m \u001b[0mdf_sante\u001b[0m\u001b[0;34m\u001b[0m\u001b[0m\n\u001b[0m",
      "\u001b[0;31mNameError\u001b[0m: name 'df_sante' is not defined"
     ]
    }
   ],
   "source": [
    "# Calculez la moyenne d'âge selon le sexe et la maladie ? \n",
    "# indice : ns utilisons la fonction mean() de la classe Series de la librairie Pandas\n",
    "import pandas as pd\n",
    "import numpy as np\n",
    "import os\n",
    "#df_sante = df_sante.rename(columns={'taux_max':'taux max', 'type_douleur':'type douleur'})\n",
    "#df_sante = df_sante.rename(columns=lambda x: x.replace(' ', '_'))\n",
    "#list_col = (list(df_sante.columns))\n",
    "#[col.lower() for col in list_col]\n",
    "#[col.replace(' ', '_') for col in list_col]\n",
    "#print(pd.crosstab(df_sante['sexe'],df_sante['coeur'], values=df_sante['age'],aggfunc=pd.Series.mean))\n",
    "#df_sante.taux_max.mean()\n"
   ]
  },
  {
   "cell_type": "code",
   "execution_count": 86,
   "metadata": {},
   "outputs": [
    {
     "name": "stdout",
     "output_type": "stream",
     "text": [
      "                age         \n",
      "coeur       absence presence\n",
      "sexe                        \n",
      "feminin   54.582090    59.35\n",
      "masculin  51.192771    56.04\n"
     ]
    }
   ],
   "source": [
    "# une autre manière de faire avec la commande pivot_table() pour exactement le même résultat\n",
    "print(df_sante.pivot_table(index=['sexe'],columns=['coeur'],values=['age'],aggfunc=pd.Series.mean))"
   ]
  },
  {
   "cell_type": "markdown",
   "metadata": {},
   "source": [
    "L'utilisation de groupby() permet d'accéder aux sous-DataFrame associés à chaque item de la variable de regroupement. Il est dès lors possible d'appliquer explicitement d'autres traitements sur ces sous-ensembles de données."
   ]
  },
  {
   "cell_type": "code",
   "execution_count": 143,
   "metadata": {
    "scrolled": true
   },
   "outputs": [
    {
     "name": "stdout",
     "output_type": "stream",
     "text": [
      "(183, 8)\n"
     ]
    }
   ],
   "source": [
    "# Scission des données selon le sexe\n",
    "df_sante = pd.read_table('sante.txt')\n",
    "g = df_sante.groupby('sexe')\n",
    "\n",
    "# Calculer la dimension du sous-DataFrame associé aux hommes\n",
    "print(g.get_group('masculin').shape)\n"
   ]
  },
  {
   "cell_type": "code",
   "execution_count": 152,
   "metadata": {},
   "outputs": [
    {
     "name": "stdout",
     "output_type": "stream",
     "text": [
      "53.84153005464481\n"
     ]
    }
   ],
   "source": [
    "# Calculez la moyenne de l'âge chez les hommes.\n",
    "print(g.get_group('masculin')['age'].mean())"
   ]
  },
  {
   "cell_type": "code",
   "execution_count": 154,
   "metadata": {},
   "outputs": [
    {
     "name": "stdout",
     "output_type": "stream",
     "text": [
      "                age           depression           \n",
      "               mean       std       mean        std\n",
      "sexe                                               \n",
      "feminin   55.678161  9.626144   8.885057  11.332630\n",
      "masculin  53.841530  8.818189  11.267760  11.459408\n"
     ]
    }
   ],
   "source": [
    "# On peut appliquer différentes fonctions\n",
    "# agg() permet de revenir sur quelque chose qui ressemble au crosstab()\n",
    "print(g[['age','depression']].agg([pd.Series.mean, pd.Series.std]))"
   ]
  },
  {
   "cell_type": "code",
   "execution_count": 163,
   "metadata": {},
   "outputs": [
    {
     "name": "stdout",
     "output_type": "stream",
     "text": [
      "feminin\n",
      "55.67816091954023\n",
      "masculin\n",
      "53.84153005464481\n"
     ]
    }
   ],
   "source": [
    "# Nous pouvons itérer sur les groupes\n",
    "for groupe in g:\n",
    "    # groupe est un tuple\n",
    "    print(groupe[0]) #étiquette du groupe\n",
    "    # accès à la variable 'age' du groupe concerné\n",
    "    print(pd.Series.mean(groupe[1]['age']))"
   ]
  },
  {
   "cell_type": "markdown",
   "metadata": {},
   "source": [
    "## Construction de variables calculées\n",
    "\n",
    "Les calculs sont vectorisés pour les vecteurs de type Series de Pandas. Ce qui évite de passer par des boucles fastidieuses pour manipuler les valeurs des vecteurs."
   ]
  },
  {
   "cell_type": "code",
   "execution_count": null,
   "metadata": {
    "collapsed": true
   },
   "outputs": [],
   "source": [
    "# Création d'une variable tauxnet (qui n'a aucune signification médicale)\n",
    "# Utilisation de la libraire numpy (log = logarithme népérien)\n"
   ]
  },
  {
   "cell_type": "code",
   "execution_count": null,
   "metadata": {
    "collapsed": true
   },
   "outputs": [],
   "source": [
    "# Ns cherchons à la concaténer au DataFrame\n"
   ]
  },
  {
   "cell_type": "markdown",
   "metadata": {},
   "source": [
    "La construction d'une variable ex-nihilo est également possible. Par ex., nous souhaitons créer une indicatrice pour la variable sexe, 1 pour masculin, 0 pour féminin."
   ]
  },
  {
   "cell_type": "code",
   "execution_count": null,
   "metadata": {
    "collapsed": true
   },
   "outputs": [],
   "source": [
    "# Création d'une Série de 0 de la même longueur\n",
    "# que notre DataFrame(nombre de lignes)\n",
    "# nous utilisons la méthode de numpy pour cela\n",
    "code = pandas.Series(numpy.zeros(df.shape[0]))\n",
    "print(code.shape)"
   ]
  },
  {
   "cell_type": "code",
   "execution_count": null,
   "metadata": {
    "collapsed": true
   },
   "outputs": [],
   "source": [
    "#les \"sexe = masculin\" sont codés 1\n",
    "#de fait, \"sexe = feminin\" est codé zéro puisque le \n",
    "#vecteur a préalablement été créé avec des valeurs 0\n",
    "code[df['sexe']=='masculin'] = 1\n",
    "print(code.value_counts())"
   ]
  },
  {
   "cell_type": "code",
   "execution_count": null,
   "metadata": {
    "collapsed": true
   },
   "outputs": [],
   "source": [
    "#une autre solution plus simple, mais il faut connaître eq()\n",
    "codebis = df['sexe'].eq('masculin').astype('int')\n",
    "print(codebis.value_counts())"
   ]
  },
  {
   "cell_type": "markdown",
   "metadata": {},
   "source": [
    "## Graphiques\n",
    "\n",
    "Passer par matplotlib permet de réaliser des graphiques performants (http://matplotlib.org/). Mais il faut connaître les procédures de la librairie, ce qui nécessite un apprentissage supplémentaire qui n'est pas toujours évident.\n",
    "\n",
    "Heureusement, Pandas propose des commandes simples qui encapsulent l'appel à ces procédures et nous simplifie grandement la vie. Il faut importer matplotlib pour que l'ensemble fonctionne correctement."
   ]
  },
  {
   "cell_type": "code",
   "execution_count": 3,
   "metadata": {
    "collapsed": true
   },
   "outputs": [],
   "source": [
    "#indiquer que l'on veut voir apparaître les graphiques dans le notebook\n",
    "#/!\\ très important, sinon on ne verrait rien \n",
    "%matplotlib inline\n",
    "\n",
    "#importation de la librairie\n",
    "import matplotlib.pyplot as plt\n",
    "import pandas as pd\n",
    "import os"
   ]
  },
  {
   "cell_type": "code",
   "execution_count": 177,
   "metadata": {},
   "outputs": [
    {
     "data": {
      "text/plain": [
       "array([[<matplotlib.axes._subplots.AxesSubplot object at 0x7f16dbec9f28>]], dtype=object)"
      ]
     },
     "execution_count": 177,
     "metadata": {},
     "output_type": "execute_result"
    },
    {
     "data": {
      "image/png": "[encoded data removed]",
      "text/plain": [
       "<matplotlib.figure.Figure at 0x7f16dbdc2898>"
      ]
     },
     "metadata": {},
     "output_type": "display_data"
    }
   ],
   "source": [
    "# Tracer 1histogramme de l'âge ? \n",
    "df_sante.hist(column='age')"
   ]
  },
  {
   "cell_type": "code",
   "execution_count": 175,
   "metadata": {},
   "outputs": [
    {
     "data": {
      "text/plain": [
       "<matplotlib.axes._subplots.AxesSubplot at 0x7f16ec459048>"
      ]
     },
     "execution_count": 175,
     "metadata": {},
     "output_type": "execute_result"
    },
    {
     "data": {
      "image/png": "[encoded data removed]",
      "text/plain": [
       "<matplotlib.figure.Figure at 0x7f16e3e37e80>"
      ]
     },
     "metadata": {},
     "output_type": "display_data"
    }
   ],
   "source": [
    "# Tracer 1density plot ? \n",
    "df_sante['age'].plot.kde()"
   ]
  },
  {
   "cell_type": "code",
   "execution_count": 181,
   "metadata": {},
   "outputs": [
    {
     "data": {
      "text/plain": [
       "array([<matplotlib.axes._subplots.AxesSubplot object at 0x7f16dba7c2e8>,\n",
       "       <matplotlib.axes._subplots.AxesSubplot object at 0x7f16db9e3d30>], dtype=object)"
      ]
     },
     "execution_count": 181,
     "metadata": {},
     "output_type": "execute_result"
    },
    {
     "data": {
      "image/png": "[encoded data removed]",
      "text/plain": [
       "<matplotlib.figure.Figure at 0x7f16dbb02a90>"
      ]
     },
     "metadata": {},
     "output_type": "display_data"
    }
   ],
   "source": [
    "# Tracer l'histogramme de l'âge selon le sexe ? \n",
    "df_sante.hist(column='age',by='sexe')"
   ]
  },
  {
   "cell_type": "code",
   "execution_count": 193,
   "metadata": {},
   "outputs": [
    {
     "data": {
      "text/plain": [
       "<matplotlib.axes._subplots.AxesSubplot at 0x7f16db654320>"
      ]
     },
     "execution_count": 193,
     "metadata": {},
     "output_type": "execute_result"
    },
    {
     "data": {
      "image/png": "[encoded data removed]",
      "text/plain": [
       "<matplotlib.figure.Figure at 0x7f16db791780>"
      ]
     },
     "metadata": {},
     "output_type": "display_data"
    }
   ],
   "source": [
    "# Comparaison des distributions avec un boxplot ? \n",
    "df_sante.boxplot(column='age',by='sexe')"
   ]
  },
  {
   "cell_type": "code",
   "execution_count": 221,
   "metadata": {},
   "outputs": [
    {
     "data": {
      "text/plain": [
       "<matplotlib.axes._subplots.AxesSubplot at 0x7f16db5794e0>"
      ]
     },
     "execution_count": 221,
     "metadata": {},
     "output_type": "execute_result"
    },
    {
     "data": {
      "image/png": "[encoded data removed]",
      "text/plain": [
       "<matplotlib.figure.Figure at 0x7f16db5469b0>"
      ]
     },
     "metadata": {},
     "output_type": "display_data"
    }
   ],
   "source": [
    "# Tracer 1scatterplot : age vs. tauxmax ? \n",
    "df_sante.plot.scatter(x='age', y='taux_max')"
   ]
  },
  {
   "cell_type": "code",
   "execution_count": 5,
   "metadata": {},
   "outputs": [
    {
     "data": {
      "text/plain": [
       "<matplotlib.axes._subplots.AxesSubplot at 0x7f01e5b37048>"
      ]
     },
     "execution_count": 5,
     "metadata": {},
     "output_type": "execute_result"
    },
    {
     "data": {
      "image/png": "[encoded data removed]",
      "text/plain": [
       "<matplotlib.figure.Figure at 0x7f01e5aa6588>"
      ]
     },
     "metadata": {},
     "output_type": "display_data"
    }
   ],
   "source": [
    "# Tracer 1scatterplot (age vs. tauxmax) en distinguant les points ? \n",
    "# (niveau de gris) selon les valeurs de dépression\n",
    "df_sante.plot.scatter(x='age', y='tauxmax', c='depression')"
   ]
  },
  {
   "cell_type": "code",
   "execution_count": null,
   "metadata": {
    "collapsed": true
   },
   "outputs": [],
   "source": [
    "# Tracer 1 scatterplot (age vs. tauxmax) en distinguant les points selon les valeurs de coeur ? \n",
    "# indice : nécessite un recodage de coeur - ici en 0/1\n",
    "# afficher le graphique en spécifiant la couleur (blue = 0, green = 1)"
   ]
  },
  {
   "cell_type": "code",
   "execution_count": null,
   "metadata": {
    "collapsed": true
   },
   "outputs": [],
   "source": [
    "# Tracer 1diagramme à secteurs - comptage de sexe ? "
   ]
  },
  {
   "cell_type": "code",
   "execution_count": null,
   "metadata": {
    "collapsed": true
   },
   "outputs": [],
   "source": [
    "# TRacez le scatterplot des variables pris deux à deux\n",
    "# Cela n'a d'intérêt que pour les variables quantitatives bien évidemment"
   ]
  }
 ],
 "metadata": {
  "kernelspec": {
   "display_name": "Python 3",
   "language": "python",
   "name": "python3"
  },
  "language_info": {
   "codemirror_mode": {
    "name": "ipython",
    "version": 3
   },
   "file_extension": ".py",
   "mimetype": "text/x-python",
   "name": "python",
   "nbconvert_exporter": "python",
   "pygments_lexer": "ipython3",
   "version": "3.6.3"
  }
 },
 "nbformat": 4,
 "nbformat_minor": 2
}
