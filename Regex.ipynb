{
 "cells": [
  {
   "cell_type": "markdown",
   "metadata": {},
   "source": [
    "# Brief Project : Regex and Search Pattern"
   ]
  },
  {
   "cell_type": "markdown",
   "metadata": {},
   "source": [
    "### Compétence : utiliser et maîtriser les expressions régulières dans les scripts Python (optique Data)."
   ]
  },
  {
   "cell_type": "markdown",
   "metadata": {},
   "source": [
    "![alt text](http://www.codercaste.com/wp-content/uploads/2013/01/regex.gif)"
   ]
  },
  {
   "cell_type": "markdown",
   "metadata": {},
   "source": [
    "- **Q : Fournir la Regex pour ?**  \n",
    "   - Un entier positif :  \n",
    "       - sans limite sur sa taille.\n",
    "       - de taille 10 au max.\n",
    "       - de taille 5 fixe.\n",
    "   - Un entier relatif (négatif) :\n",
    "       - sans limite sur sa taille.\n",
    "       - de taille 10 au max.\n",
    "       - de taille 5 fixe.\n",
    "   - Un entier (positif ou négatif)\n",
    "       - sans limite sur sa taille.\n",
    "       - de taille 10 au max.\n",
    "       - de taille 5 fixe.\n",
    "   - Un nombre :\n",
    "       - positif ou négatif avec ou sans des chiffres après la virgule.\n",
    "       - positif ou négatif avec 2 chiffres après la virgule.\n",
    "           - Les deux dernières Q : le faire aussi pr la notation américaine (le point fait office de la virgule).\n",
    "           \n",
    "- **Q : En se servant des dernières Regex fraîchement construits, fournir alors la regex d'un pourcentage :**\n",
    "   - qui peut ou non comporter le signe %,\n",
    "   - qui peut être soit positif, soit négatif\n",
    "   - qui peut avoir ou non des chiffres après la virgule (att. notation américaine (le point fait office de la virgule) ?  \n",
    "       - Exemple : 0, 0.00, 100.00, 100%, 99.99%\n",
    "       "
   ]
  },
  {
   "cell_type": "code",
   "execution_count": 25,
   "metadata": {},
   "outputs": [
    {
     "name": "stdout",
     "output_type": "stream",
     "text": [
      "rentre un nombre positif123.2255.455%\n",
      "ton nombre positif est : 123.2255.455%\n"
     ]
    }
   ],
   "source": [
    "import re\n",
    "express_no_limit = '^\\d+$'\n",
    "express_dix_max = '^(\\d{1,10})$'\n",
    "express_only_cinq = '^(\\d{5})$'\n",
    "express_negatif_no_limit = '^-\\d+$'\n",
    "express_negatif_dix_max = '^(-\\d{1,10})$'\n",
    "express_negatif_only_cinq = '^(-\\d{5})$'\n",
    "express_negpos_no_limit = '-?\\d+'\n",
    "express_negpos_dix_max = '(-?\\d{1,10})$'\n",
    "express_negpos_only_cinq = '(-?\\d{5})$'\n",
    "express_number_decimal = '-?\\d+(\\.?)(\\,?)(\\d*)$'\n",
    "express_number_decimal_two = '-?\\d+(\\.?)(\\,?)(\\d{2})$'\n",
    "express_number_decimal_percentile = '-?\\d+(\\.\\,\\d+)?\\%?$'\n",
    "\n",
    "user = input('rentre un nombre positif')\n",
    "while re.match(r'(-?\\d+)(\\.?)(\\,?)(\\d*)(\\.?)(\\,?)(\\d*)(\\%?)$', user) is None:\n",
    "    user = input('rentre un nombre positif')\n",
    "print('ton nombre positif est : {}' .format(user))\n"
   ]
  },
  {
   "cell_type": "code",
   "execution_count": 18,
   "metadata": {},
   "outputs": [
    {
     "name": "stdout",
     "output_type": "stream",
     "text": [
      "['21', '3', '4,003', '100.00%']\n"
     ]
    }
   ],
   "source": [
    "text = '21 scouts and 3 tanks fought against 4,003 protestors, so the manager was not 100.00% happy'\n",
    "match = re.findall(r'-?\\d+[\\.\\,]?\\d*\\%?', text)\n",
    "print(match)\n",
    "\n",
    "\n",
    "    \n"
   ]
  },
  {
   "cell_type": "markdown",
   "metadata": {},
   "source": [
    "## Quelques ressources utiles : "
   ]
  },
  {
   "cell_type": "markdown",
   "metadata": {},
   "source": [
    "http://www.rexegg.com/regex-quickstart.html  \n",
    "http://www.dreambank.net/regex.html#examples  \n",
    "https://pythex.org/ (Pythex is a real-time regular expression editor for Python, a quick way to test your regular expressions.)   \n",
    "https://regex101.com/   \n",
    "(Regex101 is online regex editor and debugger. Regex101 allows you to create, debug, test and have your expressions explained for PHP, PCRE, Python, Golang and JavaScript. The website also features a community where you can share useful expressions.)\n"
   ]
  },
  {
   "cell_type": "markdown",
   "metadata": {},
   "source": [
    "***\n",
    "## Avant de commencer "
   ]
  },
  {
   "cell_type": "markdown",
   "metadata": {},
   "source": [
    "**Q : Quel est le rôle d'un suffixe r devant une chaîne de caractère ?**   "
   ]
  },
  {
   "cell_type": "code",
   "execution_count": 117,
   "metadata": {},
   "outputs": [
    {
     "name": "stdout",
     "output_type": "stream",
     "text": [
      "\t- Un pattern (motif de recherche) est 1str.\n",
      "\t- Tu le mettra tjrs entre guillemets et Tu le précédera d'1 r\n"
     ]
    }
   ],
   "source": [
    "print(\"\\t- Un pattern (motif de recherche) est 1str.\\n\\t- Tu le mettra tjrs entre guillemets et Tu le précédera d'1 r\")"
   ]
  },
  {
   "cell_type": "code",
   "execution_count": 118,
   "metadata": {
    "scrolled": true
   },
   "outputs": [
    {
     "name": "stdout",
     "output_type": "stream",
     "text": [
      "\\t- Un pattern (motif de recherche) est 1str.\\n\\t- Tu le mettra tjrs entre guillemets et Tu le précédera d'1 r\n"
     ]
    }
   ],
   "source": [
    "print (r\"\\t- Un pattern (motif de recherche) est 1str.\\n\\t- Tu le mettra tjrs entre guillemets et Tu le précédera d'1 r\")"
   ]
  },
  {
   "cell_type": "markdown",
   "metadata": {},
   "source": [
    "**Q : Les pièges de la méthode strip() ? Vs avez déjà utilisé la méthode strip(), celle-ci supp la chaîne de caractères non désirée aux extrémités (lstrip() et rstrip() resp. : left et right).**"
   ]
  },
  {
   "cell_type": "code",
   "execution_count": 59,
   "metadata": {},
   "outputs": [
    {
     "name": "stdout",
     "output_type": "stream",
     "text": [
      "test1\r",
      "test2\n"
     ]
    }
   ],
   "source": [
    "#Qu'est-ce qu'un whitespace ? On pense que c'est juste l'espace mais ds Python c plus que ça ! La preuve : \n",
    "'\\t\\n\\r test '.strip()\n",
    "import string\n",
    "string.whitespace\n",
    "#Q : Qu'est-ce que le \\r ? \n",
    "print('test1\\rtest2')"
   ]
  },
  {
   "cell_type": "code",
   "execution_count": null,
   "metadata": {
    "collapsed": true
   },
   "outputs": [],
   "source": [
    "#Supprimer '[' et ']' ds la str \"[test_strip]\" ?\n",
    "'[test_strip]'.strip('[')  #ça fonctionne pr le '[' (à gauche).\n",
    "'[test_strip]'.strip(']')  #ça fonctionne pr le ']' (à droite). \n",
    "'[test_strip]'.strip('[]') #ça fonctionne malgré le fait que la str n'est pas de la forme suivante :  \n",
    "'[]test_strip[]'.strip('[]')\n"
   ]
  },
  {
   "cell_type": "code",
   "execution_count": 25,
   "metadata": {},
   "outputs": [
    {
     "data": {
      "text/plain": [
       "' **  * test_strip '"
      ]
     },
     "execution_count": 25,
     "metadata": {},
     "output_type": "execute_result"
    }
   ],
   "source": [
    "#Un 2è exemple pr se convaincre : \n",
    "\"* **  * test_strip \".strip('* ') \n",
    "# '**  * test ' # comportement attendu mais faux\n",
    "\"* **  * test \".strip('* ')\n",
    "'test'  # comportement réel"
   ]
  },
  {
   "cell_type": "code",
   "execution_count": 69,
   "metadata": {},
   "outputs": [
    {
     "data": {
      "text/plain": [
       "'est_strip'"
      ]
     },
     "execution_count": 69,
     "metadata": {},
     "output_type": "execute_result"
    }
   ],
   "source": [
    "#Un dernier exemple (dangereux) :  \n",
    "#\"* **  * test_strip \".strip('* t')\n",
    "#\"* **  * test_strip \".strip('t* ') \n",
    "\"* **  * test_strip \".strip('*t ') "
   ]
  },
  {
   "cell_type": "markdown",
   "metadata": {},
   "source": [
    "***\n",
    "## Le module regex"
   ]
  },
  {
   "cell_type": "code",
   "execution_count": 2,
   "metadata": {
    "collapsed": true
   },
   "outputs": [],
   "source": [
    "import re"
   ]
  },
  {
   "cell_type": "markdown",
   "metadata": {},
   "source": [
    "- Il existe deux manières d’utiliser les regex :\n",
    "    - La première consiste à appeler la fonction avec en 1er paramètre le motif, et en 2è paramètre la chaine à analyser.\n",
    "    - La seconde manière consiste à compiler la regex, et à ensuite utiliser les méthodes de l’objet crée pour analyser une chaine passée en argument. Cette méthode permet d’accélérer le traitement lorsqu’une regex est utilisée plusieurs fois.  "
   ]
  },
  {
   "cell_type": "code",
   "execution_count": null,
   "metadata": {
    "collapsed": true
   },
   "outputs": [],
   "source": [
    "re.search(pattern, string) #pattern est écrite entre ''\n",
    "#Chercher le pattern dans le string passé et retourner un MatchObject si des correspondances sont trouvées,\n",
    "#sinon retourner None.\n",
    "re.split(pattern, string)\n",
    "#Découpe le string string selon les occurences du pattren.\n",
    "\n",
    "result = re.match(pattern, string)\n",
    "#Est équivalente à \n",
    "prog = re.compile(pattern)\n",
    "result = prog.match(string)"
   ]
  },
  {
   "cell_type": "markdown",
   "metadata": {},
   "source": [
    "***\n",
    "**Les caractères spéciaux (en vrac, liste non exhaustive)**   "
   ]
  },
  {
   "cell_type": "markdown",
   "metadata": {},
   "source": [
    "Caractère | Signification   \n",
    ":-------------------------:|:-------------------------:\n",
    "**.**|**Désigne n’importe quel caractère.**\n",
    "**^**|**Indique que le début de la chaine doit correspondre (c’est à dire qu’une chaine ne pourra correspondre que si elle commence de la même manière, qu’elle est précédée d’espaces ou d’un saut de ligne).**\n",
    "**$**|**Indique que la fin de la chaine doit correspondre (la même remarque que précédemment s’applique, mais au niveau de la fin).**\n",
    "**{n}**|**Indique que le caractère précédent doit être répété n fois.**\n",
    "**{n,m}**|**Indique que le caractère précédent doit être répété entre n et m fois.**\n",
    "** * **|**Le caractère précédent peut être répété aucune ou plusieurs fois. Par exemple, à ab* peuvent correspondre : a, ab, ou a suivi d’un nombre quelconque de b.**\n",
    "**+**|**Le caractère précédent peut être répété une ou plusieurs fois. Par exemple, à ab+ correspond un a suivi d’un nombre quelconque de b.**\n",
    "**?**|**Le caractère précédent peut être répété zéro ou une fois. Par exemple, à ab? correspondent ab et a.**"
   ]
  },
  {
   "cell_type": "markdown",
   "metadata": {},
   "source": [
    "Autres cacartères spéciaux très utiles |Signification    \n",
    ":-------------------------:|:------------------------- :\n",
    "**\\w** | **il correspond à tout caractère alphabétique, c’est à dire qu’il est équivalent à [a-zA-Z].**\n",
    "**\\W** | **il correspond à tout ce qui n’est pas un caractère alphabétique.**\n",
    "**\\d** | **il correspond à tout caractère numérique, c’est à dire qu’il est équivalent à [0-9].**\n",
    "**\\D** | **il correspond à tout ce qui n’est pas un caractère numérique.**"
   ]
  },
  {
   "cell_type": "markdown",
   "metadata": {},
   "source": [
    "***\n",
    "**Q : Compléter le script suivant pr vérifier que la chaîne saisie est bien celle d’un nombre (méthode input() : c'est à vs de saisir et de tester) ?** "
   ]
  },
  {
   "cell_type": "markdown",
   "metadata": {},
   "source": [
    "**   Remarque :  **  \n",
    "-    *Pr la réponse, vs utiliserez successivement les méthodes spécifiques aux chaînes de caractères (split, strip, islower,...), la méthode regex sans compilation et la méthode regex avec compilation.*  \n",
    "    ** N.B : Ceci est aussi valable pr les questions qui suiveront ** (lorsq c'est possible évidemment pr les les méthodes spécifiques aux chaînes de caractères).  \n",
    "- *L'objectif est de voir les diff façon de le faire. Surtout, qd la méthode regex devient pertinente.*  \n",
    "    ** Je vous fournis la correction de la 1è Q (comme modèle) :  **"
   ]
  },
  {
   "cell_type": "code",
   "execution_count": 3,
   "metadata": {},
   "outputs": [
    {
     "name": "stdout",
     "output_type": "stream",
     "text": [
      "Votre nombre : 6666\n",
      "True\n",
      "False\n",
      "True\n",
      "True\n",
      "La chaine saisie est bien un nombre ...\n",
      "La chaine saisie est bien un nombre ...\n"
     ]
    }
   ],
   "source": [
    "nb = input('Votre nombre : ') # ex : 12, 12a\n",
    "#Q : Est-ce que je peux me limiter à une méthode str ?  A quoi sert ces diff méthodes de str ? \n",
    "print(nb.isalnum()) #True (mais ça marche aussi pr 12a) : alphanumeric\n",
    "print(nb.isalpha()) #False\n",
    "print(nb.isdecimal())\n",
    "print(nb.isdigit())\n",
    "\n",
    "# Je passe par 2méthodes : re.match() et re.search()\n",
    "\n",
    "# : Avec re (1è façon)\n",
    "if (re.match(r\"^[0-9]+$\", nb)): \n",
    "    print(\"La chaine saisie est bien un nombre ...\")\n",
    "else:\n",
    "    print(\"La chaine saisie n'est pas un nombre ...\")\n",
    "    \n",
    "# Explication de la regex :     \n",
    "    # ^ : Marque le début de la chaine, la ligne...\n",
    "    \n",
    "    # [0-9] : Un chiffre entre 0 et 9. Vous pouvez préciser entre crochets plusieurs caractères.\n",
    "    # Par exemple, si vous écrivez [abcd], cela signifie : l'une des lettres parmi a,b,c et d.\n",
    "    # L'expression [A-Z] signifie « une lettre majuscule ». \n",
    "    # L'expression [A-Za-z0-9] signifie « une lettre majuscule ou minuscule, ou un chiffre ».\n",
    "    \n",
    "    # + : Présence de l’ensemble de caractères qui précède entre 1 fois et l’infini.\n",
    "    # Par exemple, à ab+ correspond un a suivi d’un nombre quelconque de b.\n",
    "    \n",
    "    # $ : Le symbole $ veut dire que l'expression doit être à la fin de la chaîne. \n",
    "    # Astuce : Si vs placez l'expression recherhée entre ^ et $, cela signifie que \n",
    "    # la chaîne dans laquelle on recherche ne doit rien contenir d'autre que l'expression.\n",
    "\n",
    "#Q : Avec re.compile (2è façon)\n",
    "prog = re.compile(r\"^[0-9]+$\")\n",
    "if not prog.search(nb) is None : \n",
    "    print(\"La chaine saisie est bien un nombre ...\")\n",
    "else : \n",
    "    print(\"La chaine saisie n'est pas un nombre ...\")"
   ]
  },
  {
   "cell_type": "markdown",
   "metadata": {},
   "source": [
    "***\n",
    "**Q : Trouver tous les adverbes en -ment ?**   "
   ]
  },
  {
   "cell_type": "code",
   "execution_count": 11,
   "metadata": {},
   "outputs": [
    {
     "name": "stdout",
     "output_type": "stream",
     "text": [
      "rien trouvé\n"
     ]
    }
   ],
   "source": [
    "text = \"Il s'était prudemment déguisé mais fut rapidement capturé par la police.\"\n",
    "if (re.match(r\"ment*\", text)):\n",
    "    print('Occurence trouvé')\n",
    "else:\n",
    "    print('rien trouvé')"
   ]
  },
  {
   "cell_type": "markdown",
   "metadata": {},
   "source": [
    "***\n",
    "**Q : Une plaque d’immatriculation est composée de 2 lettres majuscules, un tiret ('-'), 3 chiffres, un tiret ('-') et enfin de 2 lettres majuscules. Ecrire 1script pr vérifier qu'une chaîne saisie est bien celle d’une plaque d’immatriculation (méthode input() : c'est à vs de saisir et de tester) ?**   "
   ]
  },
  {
   "cell_type": "code",
   "execution_count": 14,
   "metadata": {},
   "outputs": [
    {
     "name": "stdout",
     "output_type": "stream",
     "text": [
      "Votre plaque :KI-457-LOP\n",
      "Format de plaque non valide\n"
     ]
    }
   ],
   "source": [
    "plak = \"KI-145-LO\"\n",
    "nb_plak = input(\"Votre plaque :\")\n",
    "if (re.match(r\"^[A-Z]{2}[-]?[0-9]{3}[-]?[A-Z]{2}$\", nb_plak)):\n",
    "    print(\"Plaque Valide\")\n",
    "else : \n",
    "    print(\"Format de plaque non valide\")"
   ]
  },
  {
   "cell_type": "markdown",
   "metadata": {},
   "source": [
    "***\n",
    "**Q : Une adresse IPv4 est composée de 4 nombres entre 0 et 255 séparés par des '.' ? Ecrire 1script pr vérifier qu'une chaîne saisie est bien celle d’une adresse IPv4 (méthode input() : c'est à vs de saisir et de tester) ?**   "
   ]
  },
  {
   "cell_type": "code",
   "execution_count": 4,
   "metadata": {},
   "outputs": [
    {
     "name": "stdout",
     "output_type": "stream",
     "text": [
      "Votre IpV4 : 266999.2255\n",
      "Adresse non valide\n",
      "Entrez une adresse IP valide : 123.256.12.47\n",
      "Adresse non valide\n",
      "Entrez une adresse IP valide : 255.14.123.47\n",
      "Votre adresse IPV4 est valide : 255.14.123.47\n"
     ]
    }
   ],
   "source": [
    "import re\n",
    "nb_ip = input(\"Votre IpV4 : \")\n",
    "while True:\n",
    "    if (re.match(r\"^((25[0-5]|2[0-4][0-9]|[01]?[0-9][0-9]?)\\.){3}(25[0-5]|2[0-4][0-9]|[01]?[0-9][0-9]?)$\", nb_ip)) is None:\n",
    "        print('Adresse non valide')\n",
    "        nb_ip = input('Entrez une adresse IP valide : ')\n",
    "    else:\n",
    "        print('Votre adresse IPV4 est valide : {}'.format(nb_ip))\n",
    "        break"
   ]
  },
  {
   "cell_type": "markdown",
   "metadata": {},
   "source": [
    "***\n",
    "## Chaîne de valeur de création d'un compte sur un site\n",
    "\n",
    "Un outil ludique pr travailler sur Python : pour suivre pas à pas l’exécution d’un programme (petit)  \n",
    "\n",
    "http://pythonTutor.com\n",
    "\n",
    "**Un email est composé de caractères alphanumériques suivis de @ et d’un nom de domaine.**\n",
    "- Q : Ecrire 1script qui vérifie que la chaîne saisie par un User est bien celle d’un email, sinon lui demander de resaisir à nouveau (jusqu'à obtenir un email valide) ?    \n",
    "- Q : Augmenter le script pour taper le mot de passe (mdp, évidemment si l'email est valide où la seule spécifité du mdp est de contenir au moins 4caractères) ?\n",
    "\n",
    "** Suite à un Pb de hacking des mdp, la direction SI a mis en place 1politique de sécurité (renforcement des mdp).  **  \n",
    "- Q : Le mot de passe doit maintenant contenir au moins 6 caractères : au moins une lettre en miniscule ET au moins une lettre en majuscule Et au moins un chiffre Et au moins un charactére spécial (parmi $#@).\n",
    "\n",
    "![alt text](https://d2d3qesrx8xj6s.cloudfront.net/img/screenshots/f84ff6136551983c1eaa01c1d80d2e8439b3087c.jpg)\n",
    "\n",
    "\n",
    "- Q : Augmenter le script pour qu'il puisse donner automtiquement l'identifiant. Par ex : durant@nomdomaine.com => identifiant = durant. Le contexte : envoi de mails de confirmation qui comporteraient les identifiants (pr valider l'inscription, ex Bonjour M. Durant, Félicitation ! Votre inscri est confirmé.) ? **   \n",
    "- Q Optionnel : Extraire le nom de domaine de l'email (yahoo.fr ; outlook.com,...) "
   ]
  },
  {
   "cell_type": "code",
   "execution_count": null,
   "metadata": {
    "collapsed": true
   },
   "outputs": [],
   "source": [
    "mail = input (\"Veuillez saisir une adresse email : \") # Demande à l'utilisateur de saisir un email\n",
    "m_obj = re.search(r\"^(([a-z0-9])*)(\\@)(([a-z0-9])*\\.[a-z]*)$\", mail)\n",
    "print (\"Identifiant : \" + m_obj.group(1))"
   ]
  },
  {
   "cell_type": "code",
   "execution_count": 7,
   "metadata": {},
   "outputs": [
    {
     "name": "stdout",
     "output_type": "stream",
     "text": [
      "Votre mail : maxime.lefevre@gmail.com\n",
      "Adresse valide et enregistrée : maxime.lefevre@gmail.com\n",
      "Veuillez choisir un mot de passe : loli\n"
     ]
    }
   ],
   "source": [
    "import re\n",
    "user_mail = input('Votre mail : ')\n",
    "expr = \"(^[a-zA-Z0-9_.+-]+@[a-zA-Z0-9-]+\\.[a-zA-Z0-9-.]+$)\"\n",
    "while re.search(expr, user_mail) is None:\n",
    "    user_mail = input('Entrez une adresse mail valide : ')\n",
    "print('Adresse valide et enregistrée : {}' .format(user_mail))\n",
    "user_pass = input('Veuillez choisir un mot de passe : ')\n",
    "expr_mdp = \"^[a-zA-Z0-9$#@]{6,}$\""
   ]
  },
  {
   "cell_type": "markdown",
   "metadata": {},
   "source": [
    "A supprimer (du notebook sans correc)\n",
    "- S : Un apprenant qui se prends la tête : il ne souhaite pas passer par regex (consulter le pavé de code qu'il écrit https://codereview.stackexchange.com/questions/165187/password-checker-in-python). \n",
    "- S : Le vrai process de validation de mails (https://www.scottbrady91.com/Email-Verification/Python-Email-Verification-Script\n",
    "vs avez construit 50% du process, il reste à valider le nom de domaine mais ce n'est pas notre 'domaine'). "
   ]
  },
  {
   "cell_type": "markdown",
   "metadata": {},
   "source": [
    "- Réecrire le script où vs tenez du nouveau format de mdp et où vs indiquez au User le niveau de sécurité corresp à son mdp : \n",
    "\n",
    "    - Niveau faible : exactement 6 caractères. \n",
    "    - Niveau faible : Que des lettres (miniscules ou majuscules) peu importe leur nombre\n",
    "    - Niveau elevé : plus de 6 caractères et mélange de\n",
    "    - Interdit : Une suite consécutive de chiffre : ex, 123456."
   ]
  },
  {
   "cell_type": "code",
   "execution_count": 6,
   "metadata": {},
   "outputs": [
    {
     "name": "stdout",
     "output_type": "stream",
     "text": [
      "Entrez votre adresse mail : lefevre.maxime96@gmail.com\n",
      "Adresse mail validée = lefevre.maxime96@gmail.com\n",
      "Entre votre mot de passe sur 6 caractères : Zcdgmd75\n",
      "Mot de passe invalide\n",
      "\n",
      "Entre votre mot de passe sur 6 caractères : Max75020\n",
      "Mot de passe invalide\n",
      "\n",
      "Entre votre mot de passe sur 6 caractères : Max75020$\n",
      "mot de passe validé\n",
      "lefevre.maxime96\n"
     ]
    }
   ],
   "source": [
    "import re\n",
    "def checkmail():\n",
    "    while True:  \n",
    "        mail = input('Entrez votre adresse mail : ')\n",
    "        if (re.match(r\"[a-zA-Z0-9-_.]+@[a-zA-Z0-9-_]+\\.[a-zA-Z]{2,4}$\", mail)):\n",
    "            print(\"Adresse mail validée = {}\".format(mail))\n",
    "            return (re.split('@', mail))\n",
    "        else: \n",
    "            print(\"Adresse mail invalide\")\n",
    "#Le mot de passe doit maintenant contenir au moins 6 caractères : au moins une lettre en miniscule ET au moins une\n",
    "#lettre en majuscule Et au moins un chiffre Et au moins un charactére spécial (parmi $#@).\n",
    "import re\n",
    "def checkpasswordv2():\n",
    "    while True:\n",
    "        pwd = input('Entre votre mot de passe sur 6 caractères : ')\n",
    "        if re.match(r\"^(?=.*[A-Z])(?=.*[a-z])(?=.*\\d)(?=.*[$#@]).{6,}$\", pwd):\n",
    "            print(\"mot de passe validé\")\n",
    "            return (pwd)\n",
    "        else:\n",
    "            print(\"Mot de passe invalide\\n\")  \n",
    "\n",
    "def mailpwdvalid():\n",
    "    tempo = checkmail()\n",
    "    checkpasswordv2()\n",
    "    print(tempo[0])\n",
    "\n",
    "mailpwdvalid()"
   ]
  },
  {
   "cell_type": "markdown",
   "metadata": {},
   "source": [
    "***\n",
    "### Du Regex vers une liste vers un dico\n",
    "#### autonomus_reading_text_and_processing = 'Durant a 15 ans et Dupont a 19 ans. Mickeal a 20 et Jessica a 22 ans'.  \n",
    "**Q : Extraire les noms des individus et leur age en (utilisant évidemment le module re) et stocker tt ds 1dictionnaire ?**  \n",
    "Sortie souhaitée : \n",
    "dico = {'Durant' : 15, 'Dupont' : 19, 'Mickeal' : 20, 'Jessica' : 22}"
   ]
  },
  {
   "cell_type": "code",
   "execution_count": 8,
   "metadata": {},
   "outputs": [
    {
     "name": "stdout",
     "output_type": "stream",
     "text": [
      "{'Durant': '15', 'Dupont': '19', 'Mickeal': '20', 'Jessica': '22'}\n"
     ]
    }
   ],
   "source": [
    "text2 = 'Durant a 15 ans et Dupont a 19 ans. Mickeal a 20 et Jessica a 22 ans'\n",
    "dico = {}\n",
    "age = re.findall(r\"[1-9][0-9]\", text2)\n",
    "name = re.findall(r\"[A-Z][a-z]*\", text2)\n",
    "dico = dict(zip(name, age))\n",
    "print(dico)"
   ]
  },
  {
   "cell_type": "markdown",
   "metadata": {},
   "source": [
    "***\n",
    "### Du regex vers un dico (TODO vers 1json à partir d'1 fichier de texte )\n",
    "**Q : On se donne comme 1è obj d'extraire des dates historiques.**  \n",
    "- Exemple : \n",
    "    - expression = 'Bastille le 14 juillet 1789'\n",
    "    - Ce qui donnera : '14 juillet 1789'\n",
    "    \n",
    "**Q : On souhaite comme 2è obj d'affiner l'affichage du résultat ?**    \n",
    "- Exemple : \n",
    "    - date_histo = '14 juillet 1789'\n",
    "    - Ce qui donnera : dico = {'jour' : '14', 'mois' : 'juillet', 'annee' : '1789'}  \n",
    "    \n",
    "*- Pr la construction du dico, utiliser spécifiquement les méthodes du module re (càd, ne pas initialiser un dico vide et le   remplir).*  \n",
    "*- Indices : Qu'est-ce qu'un motif nominatif (Named Capturing Group)? \n",
    "Aussi, aller sur https://pythex.org/, cliquer sur 'test the example' et inspirer vs de la syntaxe de la regex fournie.*    \n",
    "\n",
    "**Q : Extraire à partir du dico le jour et le mois (Tjrs à l'aide les méthodes du module re et non à l'aide des méthodes spécifiques des dico) ?**   \n",
    "\n"
   ]
  },
  {
   "cell_type": "code",
   "execution_count": 15,
   "metadata": {
    "scrolled": true
   },
   "outputs": [
    {
     "data": {
      "text/plain": [
       "{'annee': '1986', 'jour': '14', 'mois': 'juillet'}"
      ]
     },
     "execution_count": 15,
     "metadata": {},
     "output_type": "execute_result"
    }
   ],
   "source": [
    "expression = 'bastille le 14 juillet 1986'\n",
    "dico = re.search(r\"(?P<jour>\\d{1,2}) (?P<mois>\\w*) (?P<annee>\\d{4})\",expression).groupdict()\n",
    "dico"
   ]
  },
  {
   "cell_type": "markdown",
   "metadata": {},
   "source": [
    "**Q : Alex a posé une Q concernant la fonc qui convertit le camelCase en snake_case, étudier la regex utilisée ?**   "
   ]
  },
  {
   "cell_type": "code",
   "execution_count": null,
   "metadata": {
    "collapsed": true
   },
   "outputs": [],
   "source": []
  },
  {
   "cell_type": "markdown",
   "metadata": {},
   "source": [
    "**Q : Trouver tous les mots en -ism ?**  \n",
    "   - text = 'Capitalism, Communism, Neorealism, Liberalism'\n",
    "- **Q : Trouver tt les \\$ (et les supp) ?**  \n",
    "   - text = '$100'\n",
    "   "
   ]
  },
  {
   "cell_type": "code",
   "execution_count": 79,
   "metadata": {},
   "outputs": [
    {
     "name": "stdout",
     "output_type": "stream",
     "text": [
      "['Capitalism', 'Communism', 'Neorealism', 'Liberalism']\n",
      "100\n"
     ]
    }
   ],
   "source": [
    "text = 'Capitalism, Communism, Neorealism, Liberalism'\n",
    "find = re.findall(r'[A-Za-z]+[ism]',text)\n",
    "print(find)\n",
    "num = '$100'\n",
    "findnum = re.sub('\\$','',num)\n",
    "print(findnum)"
   ]
  },
  {
   "cell_type": "markdown",
   "metadata": {},
   "source": [
    "- **L'équivalent de Ctrl-F ?** \n",
    "    - Vs cherchez un mot ds 1 texte, vs taper ds Word Office Ctrl-F et vs saisissez le mot à trouver. Et ça fonctionne.\n",
    "    - **Q : On le fait avec une regex ! Trouver exactement le mot 'The' ds le texte suivant ?**   \n",
    "         - text = 'The quick brown fox jumped over the lazy brown bear.'\n",
    "    - Sauf que ds Word ça marche pour une seule recherche (vs deveriez recommencer : *un autre mot = une nouvelle recherche*)\n",
    "    - Avec les regex, c'est possible de rechercher plusieurs mots à la fois.\n",
    "       \n",
    "        - **Q : Chercher si text contient soit 'fox' soit 'snake' soit 'bear' (1 seule ligne de code)**    "
   ]
  },
  {
   "cell_type": "code",
   "execution_count": 78,
   "metadata": {},
   "outputs": [
    {
     "name": "stdout",
     "output_type": "stream",
     "text": [
      "['The']\n",
      "['fox', 'bear']\n",
      "['The', 'fox', 'the']\n",
      "['The']\n"
     ]
    }
   ],
   "source": [
    "text = 'The quick brown fox jumped over the lazy brown bear.'\n",
    "findword = re.findall(r'The', text)\n",
    "print(findword)\n",
    "findwords = re.findall('fox|snake|bear',text)\n",
    "print(findwords)\n",
    "countwords = re.findall(r'\\b\\w{3}\\b',text)\n",
    "print(countwords)\n",
    "wordt = re.findall(r'\\bT\\w{2}\\b', text)\n",
    "print(wordt)\n"
   ]
  },
  {
   "cell_type": "markdown",
   "metadata": {},
   "source": [
    "- **Q : Supposons que ds l'ex suivant que vs vs intéressez à réccupérer tous les mots dont la taille est exactement de 3 caractères ?**  \n",
    "   - text = 'The quick brown fox jumped over the lazy brown bear.'\n",
    "- **Q : Trouver ts les mots qui commencennt par un T et suivi exactement de 2 caractères ?**  \n",
    "   - text = 'The quick brown fox jumped over the lazy brown bear.'\n",
    "*** "
   ]
  },
  {
   "cell_type": "markdown",
   "metadata": {},
   "source": [
    "### Le format numérique des date\n",
    "- **Q : Extraire les dates d'anniversaire (dans une liste) ?**  \n",
    "   - date_birthday = 'My birthday is 09/15/1983. My brother\\'s birthday is 01/01/01. My other two brothers have birthdays of 9/3/2001 and 09/1/83.'\n",
    "   - Résultat = ['09/15/1983', '01/01/01', '9/3/2001', '09/1/83']\n",
    "- **Q : TODO : Transformer la date numérique en date iso ?**\n",
    "***"
   ]
  },
  {
   "cell_type": "code",
   "execution_count": 18,
   "metadata": {
    "scrolled": true
   },
   "outputs": [
    {
     "name": "stdout",
     "output_type": "stream",
     "text": [
      "['09/15/1983', '01/01/01', '9/3/2001', '09/1/83']\n",
      "My birthday is 1983-09-15. My brother's birthday is 01-01-01. My other two brothers have birthdays of 2001-9-3 and 83-09-1.\n"
     ]
    }
   ],
   "source": [
    "import re\n",
    "date_birthday = 'My birthday is 09/15/1983. My brother\\'s birthday is 01/01/01. My other two brothers have birthdays of 9/3/2001 and 09/1/83.'\n",
    "findB = re.findall(r'\\d{1,2}\\/\\d{1,2}\\/\\d{2,4}', date_birthday)\n",
    "print(findB)\n",
    "print(re.sub(r'(\\d{1,2})/(\\d{1,2})/(\\d{2,4})', r'\\3-\\1-\\2', date_birthday))"
   ]
  },
  {
   "cell_type": "markdown",
   "metadata": {},
   "source": [
    "***\n",
    "## Les autres formats de date \n",
    "**En manipulant le format date avec Pandas, vs vs êtes rendu compte qu'il existe plusieurs format date !**  \n",
    "**Q : Après avoir définit qu'est-ce qu'un *\"ISO date\"*, un* \"ISO date with separators\"*,* \"United States date format\"*,* \"Hours and minutes, 24 hours format\"*, Ecrire, les regex correspondants à ces formats de date ?**\n",
    "***"
   ]
  },
  {
   "cell_type": "code",
   "execution_count": 39,
   "metadata": {
    "scrolled": true
   },
   "outputs": [
    {
     "name": "stdout",
     "output_type": "stream",
     "text": [
      "['45:09']\n"
     ]
    }
   ],
   "source": [
    "date_birthday2 = \"My birthday is 1983/15/01. My brother‘s birthday is 1990-01-01 . My other two brothers 45:09 have birthdays of 9/3/2001 and 09/1/83.\"\n",
    "iso1 = re.findall(r'(\\d{4}) (\\d{2}) (\\d{2})', date_birthday2)\n",
    "iso2 = re.findall(r'(\\d{4})[-/.]?(\\d{2})[-/.]?(\\d{2})', date_birthday2)\n",
    "iso3 = re.findall(r'(\\d{2})/(\\d{2})/(\\d{4})', date_birthday2)\n",
    "isohours = re.findall(r'\\d{2}:\\d{2}', date_birthday2)\n",
    "print(isohours)"
   ]
  },
  {
   "cell_type": "markdown",
   "metadata": {},
   "source": [
    "## Du regex dans un DataFrame\n",
    "- **Q : Transformer ce dico en df ?**    \n",
    "\n",
    "dico = {'col_brute': ['Paris 1 2014-12-23       3242.0',\n",
    "   'Nantes 1 2010-02-23       3453.7',\n",
    "               'Marseille 0 2014-06-20       2123.0',\n",
    "               'Toulouse 0 2014-03-14       1123.6',\n",
    "               'Nice 1 2013-01-15       2134.0',\n",
    "               'Lyon 0 2012-07-14       2345.6']}  \n",
    "- La col brute contient en réalité les info qui concerne 4 cols : Par ex,\n",
    "   - La 1è col : ville (\"Paris\", \"Marseille\")                \n",
    "   - La 2è col : sexe (1 : homme, 0 : femme)\n",
    "   - La 3è col : date (2014-12-23)\n",
    "   - La 4è col : score (3242.0)"
   ]
  },
  {
   "cell_type": "code",
   "execution_count": null,
   "metadata": {
    "collapsed": true
   },
   "outputs": [],
   "source": []
  },
  {
   "cell_type": "markdown",
   "metadata": {},
   "source": [
    "- **Q : Sauf que ça a été très mal formaté ! A l'aide des regex, extraire les cols correspondantes et render un df propre ?**\n",
    "***\n",
    "### Regex applicable sur plusieurs fichiers (dossier zippé)  \n",
    "Vs trouvez sur le drive un document 'discours' d'un politicien.  \n",
    "\n",
    "**Q : On souhaite obtenir toutes les séquences de lettres commençant par je ?**    \n",
    "**Q : Rechercher indifféremment le mot securite ou insecurite ?**"
   ]
  }
 ],
 "metadata": {
  "kernelspec": {
   "display_name": "Python 3",
   "language": "python",
   "name": "python3"
  },
  "language_info": {
   "codemirror_mode": {
    "name": "ipython",
    "version": 3
   },
   "file_extension": ".py",
   "mimetype": "text/x-python",
   "name": "python",
   "nbconvert_exporter": "python",
   "pygments_lexer": "ipython3",
   "version": "3.6.3"
  },
  "varInspector": {
   "cols": {
    "lenName": 16,
    "lenType": 16,
    "lenVar": 40
   },
   "kernels_config": {
    "python": {
     "delete_cmd_postfix": "",
     "delete_cmd_prefix": "del ",
     "library": "var_list.py",
     "varRefreshCmd": "print(var_dic_list())"
    },
    "r": {
     "delete_cmd_postfix": ") ",
     "delete_cmd_prefix": "rm(",
     "library": "var_list.r",
     "varRefreshCmd": "cat(var_dic_list()) "
    }
   },
   "types_to_exclude": [
    "module",
    "function",
    "builtin_function_or_method",
    "instance",
    "_Feature"
   ],
   "window_display": false
  }
 },
 "nbformat": 4,
 "nbformat_minor": 2
}
