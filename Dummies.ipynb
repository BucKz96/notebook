{
 "cells": [
  {
   "cell_type": "markdown",
   "metadata": {},
   "source": [
    "**Q : Améliorer l'algo de tirage aléatoire pr qu'il soit de tel sorte  :** \n",
    "- **Si un des apprenants participe, il n'aura pas à participer de nouveau (en attendant que ts les autres apprenants participent aussi) ?**\n",
    "- **De renouveller le cycle lorsque tout le monde ait participé ?**"
   ]
  },
  {
   "cell_type": "code",
   "execution_count": 2,
   "metadata": {},
   "outputs": [
    {
     "name": "stdout",
     "output_type": "stream",
     "text": [
      "A ton tour Alex ! \n"
     ]
    },
    {
     "data": {
      "text/plain": [
       "['Corentin',\n",
       " 'Romain',\n",
       " 'John',\n",
       " 'Kerian',\n",
       " 'Kevin',\n",
       " 'Ludovic',\n",
       " 'Najoua',\n",
       " 'Nicolas',\n",
       " 'Raed',\n",
       " 'William',\n",
       " 'Benjamin',\n",
       " 'Maxime',\n",
       " 'Eva',\n",
       " 'Laura',\n",
       " 'Myrtille',\n",
       " 'Nassim',\n",
       " 'Salima',\n",
       " 'Thomas',\n",
       " 'Imed']"
      ]
     },
     "execution_count": 2,
     "metadata": {},
     "output_type": "execute_result"
    }
   ],
   "source": [
    "import random\n",
    "student_list= ['Alex','Corentin','Romain','John','Kerian','Kevin','Ludovic','Najoua','Nicolas','Raed','William','Benjamin','Maxime','Eva','Laura','Myrtille','Nassim','Salima','Thomas','Imed']  \n",
    "students = ['Alex','Corentin','Romain','John','Kerian','Kevin','Ludovic','Najoua','Nicolas','Raed','William','Benjamin','Maxime','Eva','Laura','Myrtille','Nassim','Salima','Thomas','Imed']  \n",
    "\n",
    "def tirage(stud):\n",
    "    if len(stud)==1:\n",
    "        print (\"Tu es le dernier {} ! \".format(stud[0]))\n",
    "        del stud[0]\n",
    "        students.extend(student_list)\n",
    "        return (stud)\n",
    "    else:\n",
    "        tempo = random.randrange(0, len(stud))\n",
    "        print(\"A ton tour {} ! \".format(stud[tempo]))\n",
    "        del stud[tempo]\n",
    "        return (stud)\n",
    "    \n",
    "tirage(students)\n",
    "\n"
   ]
  },
  {
   "cell_type": "markdown",
   "metadata": {},
   "source": [
    "**Q : Lire le fichier Dummies.csv (tjrs à l'aide de la fonc générique mis au point et stocké ds le script startup.py) ?**"
   ]
  },
  {
   "cell_type": "code",
   "execution_count": 24,
   "metadata": {
    "scrolled": true
   },
   "outputs": [
    {
     "name": "stdout",
     "output_type": "stream",
     "text": [
      "Lecture normale effectuée\n",
      "les dimensions du dataframe sont : 891 lignes par 12 colonnes\n",
      "\n",
      "Les différents type de vars : \n",
      " object     5\n",
      "int64      5\n",
      "float64    2\n",
      "dtype: int64\n"
     ]
    }
   ],
   "source": [
    "df = my_read_table('Dummies.csv', sep = ',')\n"
   ]
  },
  {
   "cell_type": "markdown",
   "metadata": {},
   "source": [
    "**Q : Tester si chaque élément de la liste suivante comporte des maj et en miniscule (à la fois) ?**"
   ]
  },
  {
   "cell_type": "code",
   "execution_count": 5,
   "metadata": {
    "collapsed": true
   },
   "outputs": [],
   "source": [
    "list_case = [\n",
    "        \"camel\",\n",
    "        \"camelCase\",\n",
    "        \"CamelCase\",\n",
    "        \"CAMELCASE\",\n",
    "        \"camelcase\",\n",
    "        \"Camelcase\",\n",
    "        \"Case\"\n",
    "        ]"
   ]
  },
  {
   "cell_type": "code",
   "execution_count": 9,
   "metadata": {},
   "outputs": [
    {
     "data": {
      "text/plain": [
       "['camel',\n",
       " 'camel_case',\n",
       " 'camel_case',\n",
       " 'camelcase',\n",
       " 'camelcase',\n",
       " 'camelcase',\n",
       " 'case']"
      ]
     },
     "execution_count": 9,
     "metadata": {},
     "output_type": "execute_result"
    }
   ],
   "source": [
    "import re\n",
    "def norme_name_columns(name):\n",
    "\tliste=[]\n",
    "\tfor i in name:\n",
    "\t\ts1 = re.sub('(.)([A-Z][a-z]+)', r'\\1_\\2', i)\n",
    "\t\tliste.append(re.sub('([a-z0-9])([A-Z])', r'\\1_\\2', s1).lower())\n",
    "\treturn liste\n",
    "norme_name_columns(list_case)"
   ]
  },
  {
   "cell_type": "markdown",
   "metadata": {},
   "source": [
    "**Q : Quelle est le format d'écriture des noms des vars (PassengerId, Pclass, SibSp) ?** Indice : lower case, camel case, pascal case,... ?  \n",
    "Obj final : Maîtriser ces diff case (camel, pascal,...) pr avoir le même jargon des développeurs !  "
   ]
  },
  {
   "cell_type": "markdown",
   "metadata": {},
   "source": [
    "A ce stade, comme petite application ns allons appliquer ces notions de case aux noms des cols du df. L'idée est de détecter automtq la casse des noms des cols. En fait, ns allons vu jusqu'à maintenant qu'il vaut mieux mettre tt en miniscule et de remplacer les espaces par '_'.   \n",
    "Par exemple : 'Passenger Id' => 'passenger_id'  \n",
    "Or 'Passenger Id' s'écrit maintenant 'PassengerId'. Du coup, si on applique notre méthode (sans faire attention) 'PassengerId' devient 'passengerid' (ce que ns souhaitons éviter parcq le nom du col devient illisible).  \n",
    "**Q : Créer 1fonc qui permet de détecter si les noms des cols s'écrit sous la forme 'PassengerId' ou 'Passenger Id' ?**  \n",
    "- Si c'est le cas de 'Passenger Id', du coup on applique notre méthode (lower(), replace(' ', '_'))\n",
    "- Si c'est le cas de 'PassengerId', on ne fait rien.\n",
    "Sauvegarder la fon ds le script startup.py (pr l'utiliser au besoin). "
   ]
  },
  {
   "cell_type": "code",
   "execution_count": 54,
   "metadata": {},
   "outputs": [
    {
     "data": {
      "text/plain": [
       "['test_1', 'test2', 'test_4', 'test_5']"
      ]
     },
     "execution_count": 54,
     "metadata": {},
     "output_type": "execute_result"
    }
   ],
   "source": [
    "import re\n",
    "def check_space(liste):\n",
    "    listevide=[]\n",
    "    for item in liste:\n",
    "        if ' ' in item:\n",
    "            item = item.replace(' ','_').lower()\n",
    "        s1 = re.sub('(.)([A-Z][a-z]+)', r'\\1_\\2', item)\n",
    "        listevide.append(re.sub('([a-z0-9])([A-Z])', r'\\1_\\2', s1).lower())\n",
    "    return listevide\n",
    "check_space(list_test)"
   ]
  },
  {
   "cell_type": "code",
   "execution_count": 50,
   "metadata": {
    "collapsed": true
   },
   "outputs": [],
   "source": [
    "list_test = ['test 1', 'test2', 'TEST 4', 'TeSt 5']\n"
   ]
  },
  {
   "cell_type": "markdown",
   "metadata": {},
   "source": [
    "**Q : Créer également 1fonc qui permet de renommer les cols de tel sorte PassengerId devient z0_PassengerId, z1_Survived,..., z11_Embarked ?**  \n",
    "Remarquer maintenant que l'autocomplétion des noms des vars devient plus pratique !"
   ]
  },
  {
   "cell_type": "code",
   "execution_count": 57,
   "metadata": {},
   "outputs": [
    {
     "ename": "TypeError",
     "evalue": "'list' object is not callable",
     "output_type": "error",
     "traceback": [
      "\u001b[0;31m---------------------------------------------------------------------------\u001b[0m",
      "\u001b[0;31mTypeError\u001b[0m                                 Traceback (most recent call last)",
      "\u001b[0;32m<ipython-input-57-b86ae5bd20e0>\u001b[0m in \u001b[0;36m<module>\u001b[0;34m()\u001b[0m\n\u001b[0;32m----> 1\u001b[0;31m \u001b[0mindex_list\u001b[0m \u001b[0;34m=\u001b[0m \u001b[0mlist\u001b[0m\u001b[0;34m(\u001b[0m\u001b[0mdf\u001b[0m\u001b[0;34m.\u001b[0m\u001b[0mcolumns\u001b[0m\u001b[0;34m)\u001b[0m\u001b[0;34m\u001b[0m\u001b[0m\n\u001b[0m\u001b[1;32m      2\u001b[0m \u001b[0;32mfor\u001b[0m \u001b[0mi\u001b[0m \u001b[0;32min\u001b[0m \u001b[0mrange\u001b[0m \u001b[0;34m(\u001b[0m\u001b[0;36m0\u001b[0m\u001b[0;34m,\u001b[0m\u001b[0mlen\u001b[0m\u001b[0;34m(\u001b[0m\u001b[0mindex_list\u001b[0m\u001b[0;34m)\u001b[0m\u001b[0;34m)\u001b[0m\u001b[0;34m:\u001b[0m\u001b[0;34m\u001b[0m\u001b[0m\n\u001b[1;32m      3\u001b[0m     \u001b[0mindex_list\u001b[0m\u001b[0;34m[\u001b[0m\u001b[0mi\u001b[0m\u001b[0;34m]\u001b[0m \u001b[0;34m=\u001b[0m \u001b[0;34m'z'\u001b[0m\u001b[0;34m+\u001b[0m \u001b[0mstr\u001b[0m\u001b[0;34m(\u001b[0m\u001b[0mi\u001b[0m\u001b[0;34m)\u001b[0m\u001b[0;34m+\u001b[0m\u001b[0;34m'_'\u001b[0m\u001b[0;34m+\u001b[0m \u001b[0mindex_list\u001b[0m\u001b[0;34m[\u001b[0m\u001b[0mi\u001b[0m\u001b[0;34m]\u001b[0m\u001b[0;34m\u001b[0m\u001b[0m\n\u001b[1;32m      4\u001b[0m \u001b[0mdf\u001b[0m\u001b[0;34m.\u001b[0m\u001b[0mcolumns\u001b[0m \u001b[0;34m=\u001b[0m \u001b[0mindex_list\u001b[0m\u001b[0;34m\u001b[0m\u001b[0m\n\u001b[1;32m      5\u001b[0m \u001b[0mdf\u001b[0m\u001b[0;34m.\u001b[0m\u001b[0mcolumns\u001b[0m\u001b[0;34m\u001b[0m\u001b[0m\n",
      "\u001b[0;31mTypeError\u001b[0m: 'list' object is not callable"
     ]
    }
   ],
   "source": [
    "index_list = list(df.columns)\n",
    "for i in range (0,len(index_list)):\n",
    "    index_list[i] = 'z'+ str(i)+'_'+ index_list[i]\n",
    "df.columns = index_list\n",
    "df.columns"
   ]
  },
  {
   "cell_type": "markdown",
   "metadata": {},
   "source": [
    "**Obj final : Créer 1fonc générique qui permet d'optimiser la taille mémoire consommée par le df (en allouant aux cols les meilleurs types possibles : int8, uint8, categorical,...) ? Vs pouvez stocker cette fonc ds le script startup.py (et l'utiliser au besoin).**\n",
    "- Appliquer votre fonc au df (créer une copie \"df1\", n'écraser pas le df initial) ? Rajouter \"1\" aux noms des cols df1, exemple 'z0_PassengerId' => 'z0_PassengerId1' (afin de ne pas se perdre entre les cols de chaque df)."
   ]
  },
  {
   "cell_type": "code",
   "execution_count": 1,
   "metadata": {},
   "outputs": [
    {
     "name": "stdout",
     "output_type": "stream",
     "text": [
      "Lecture normale effectuée\n",
      "les dimensions du dataframe sont : 891 lignes par 12 colonnes\n",
      "\n",
      "Les différents type de vars : \n",
      " object     5\n",
      "int64      5\n",
      "float64    2\n",
      "dtype: int64\n"
     ]
    },
    {
     "ename": "NameError",
     "evalue": "name 'df' is not defined",
     "output_type": "error",
     "traceback": [
      "\u001b[0;31m---------------------------------------------------------------------------\u001b[0m",
      "\u001b[0;31mNameError\u001b[0m                                 Traceback (most recent call last)",
      "\u001b[0;32m<ipython-input-1-ed8f19cefba8>\u001b[0m in \u001b[0;36m<module>\u001b[0;34m()\u001b[0m\n\u001b[1;32m      1\u001b[0m \u001b[0mdf1\u001b[0m \u001b[0;34m=\u001b[0m \u001b[0mmy_read_table\u001b[0m\u001b[0;34m(\u001b[0m\u001b[0;34m'Dummies.csv'\u001b[0m\u001b[0;34m)\u001b[0m\u001b[0;34m\u001b[0m\u001b[0m\n\u001b[0;32m----> 2\u001b[0;31m \u001b[0mdf\u001b[0m\u001b[0;34m.\u001b[0m\u001b[0mselect_dtypes\u001b[0m\u001b[0;34m(\u001b[0m\u001b[0mexclude\u001b[0m \u001b[0;34m=\u001b[0m \u001b[0;34m[\u001b[0m\u001b[0;34m'object'\u001b[0m\u001b[0;34m]\u001b[0m\u001b[0;34m)\u001b[0m\u001b[0;34m.\u001b[0m\u001b[0mmin\u001b[0m\u001b[0;34m(\u001b[0m\u001b[0;34m)\u001b[0m \u001b[0;34m>=\u001b[0m \u001b[0;36m0\u001b[0m\u001b[0;34m\u001b[0m\u001b[0m\n\u001b[0m",
      "\u001b[0;31mNameError\u001b[0m: name 'df' is not defined"
     ]
    }
   ],
   "source": [
    "df1 = my_read_table('Dummies.csv')\n",
    "df.select_dtypes(exclude = ['object']).min() >= 0"
   ]
  },
  {
   "cell_type": "markdown",
   "metadata": {},
   "source": [
    "Ds ce que suit, ns allons travaillons sur les 2 df.  \n",
    "- **La col 'z4_Sex1' de type maintenant categorical comporte deux modalités (female = 0, male = 1) ; à vérifier ?**  \n",
    "- **La col 'z11_Embarqued1' de type maintenant categorical comporte trois modalités (C = 0, Q = 1 et S = 2) ; à vérifier ?**\n",
    "- **Q : Ns ns concentrons sur les cols 'z11_embarqued' et 'z11_embarqued1'. L'idée est de construire 3 variables à partir de cette col : 'embarked_c', 'embarked_q' et 'embarked_s'.**  Evidemment, adapter les noms de ces nouvelles cols (à notre convention). \n",
    "embarked_c = 1 si embarqued == 'C', 0 sinon  \n",
    "embarked_q = 1 si embarqued == 'Q', 0 sinon  \n",
    "embarked_s = 1 si embarqued == 'S', 0 sinon  \n",
    "L'ensemble de ces vars sont ce qu'on appelle des dummies (ou var muette, dichotomique) !  \n",
    "**Q : Utiliser successivement les méthodes suivantes : 'if', 'map', get_dummies (sur les 2df) **\n",
    "**Q : Peut-t-on convertir systématiquement les cols de type objects en type Categorical ?**   "
   ]
  }
 ],
 "metadata": {
  "kernelspec": {
   "display_name": "Python 3",
   "language": "python",
   "name": "python3"
  },
  "language_info": {
   "codemirror_mode": {
    "name": "ipython",
    "version": 3
   },
   "file_extension": ".py",
   "mimetype": "text/x-python",
   "name": "python",
   "nbconvert_exporter": "python",
   "pygments_lexer": "ipython3",
   "version": "3.6.3"
  },
  "varInspector": {
   "cols": {
    "lenName": 16,
    "lenType": 16,
    "lenVar": 40
   },
   "kernels_config": {
    "python": {
     "delete_cmd_postfix": "",
     "delete_cmd_prefix": "del ",
     "library": "var_list.py",
     "varRefreshCmd": "print(var_dic_list())"
    },
    "r": {
     "delete_cmd_postfix": ") ",
     "delete_cmd_prefix": "rm(",
     "library": "var_list.r",
     "varRefreshCmd": "cat(var_dic_list()) "
    }
   },
   "types_to_exclude": [
    "module",
    "function",
    "builtin_function_or_method",
    "instance",
    "_Feature"
   ],
   "window_display": false
  }
 },
 "nbformat": 4,
 "nbformat_minor": 2
}
